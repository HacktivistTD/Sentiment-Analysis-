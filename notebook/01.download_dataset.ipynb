{
 "cells": [
  {
   "cell_type": "code",
   "execution_count": null,
   "metadata": {},
   "outputs": [],
   "source": [
    "import numpy as np\n"
   ]
  },
  {
   "cell_type": "code",
   "execution_count": 1,
   "metadata": {},
   "outputs": [],
   "source": [
    "import json\n",
    "with open('../artifacts/kaggle.json','r') as file:\n",
    "    data=json.load(file)"
   ]
  },
  {
   "cell_type": "code",
   "execution_count": 3,
   "metadata": {},
   "outputs": [
    {
     "name": "stdout",
     "output_type": "stream",
     "text": [
      "Collecting kaggle\n",
      "  Downloading kaggle-1.6.14.tar.gz (82 kB)\n",
      "     ---------------------------------------- 0.0/82.1 kB ? eta -:--:--\n",
      "     ---- ----------------------------------- 10.2/82.1 kB ? eta -:--:--\n",
      "     ---- ----------------------------------- 10.2/82.1 kB ? eta -:--:--\n",
      "     ---- ----------------------------------- 10.2/82.1 kB ? eta -:--:--\n",
      "     --------- ----------------------------- 20.5/82.1 kB 93.9 kB/s eta 0:00:01\n",
      "     --------- ----------------------------- 20.5/82.1 kB 93.9 kB/s eta 0:00:01\n",
      "     --------- ----------------------------- 20.5/82.1 kB 93.9 kB/s eta 0:00:01\n",
      "     --------- ----------------------------- 20.5/82.1 kB 93.9 kB/s eta 0:00:01\n",
      "     --------- ----------------------------- 20.5/82.1 kB 93.9 kB/s eta 0:00:01\n",
      "     --------- ----------------------------- 20.5/82.1 kB 93.9 kB/s eta 0:00:01\n",
      "     -------------- ------------------------ 30.7/82.1 kB 50.4 kB/s eta 0:00:02\n",
      "     -------------- ------------------------ 30.7/82.1 kB 50.4 kB/s eta 0:00:02\n",
      "     -------------- ------------------------ 30.7/82.1 kB 50.4 kB/s eta 0:00:02\n",
      "     -------------------------------------  81.9/82.1 kB 124.0 kB/s eta 0:00:01\n",
      "     -------------------------------------- 82.1/82.1 kB 124.3 kB/s eta 0:00:00\n",
      "  Installing build dependencies: started\n",
      "  Installing build dependencies: finished with status 'done'\n",
      "  Getting requirements to build wheel: started\n",
      "  Getting requirements to build wheel: finished with status 'done'\n",
      "  Installing backend dependencies: started\n",
      "  Installing backend dependencies: finished with status 'done'\n",
      "  Preparing metadata (pyproject.toml): started\n",
      "  Preparing metadata (pyproject.toml): finished with status 'done'\n",
      "Requirement already satisfied: six>=1.10 in e:\\project\\sentiment analysis\\sentiment-analysis-\\env\\lib\\site-packages (from kaggle) (1.16.0)\n",
      "Requirement already satisfied: certifi>=2023.7.22 in e:\\project\\sentiment analysis\\sentiment-analysis-\\env\\lib\\site-packages (from kaggle) (2024.2.2)\n",
      "Requirement already satisfied: python-dateutil in e:\\project\\sentiment analysis\\sentiment-analysis-\\env\\lib\\site-packages (from kaggle) (2.9.0.post0)\n",
      "Requirement already satisfied: requests in e:\\project\\sentiment analysis\\sentiment-analysis-\\env\\lib\\site-packages (from kaggle) (2.32.3)\n",
      "Collecting tqdm (from kaggle)\n",
      "  Downloading tqdm-4.66.4-py3-none-any.whl.metadata (57 kB)\n",
      "     ---------------------------------------- 0.0/57.6 kB ? eta -:--:--\n",
      "     ---------------------------------------- 0.0/57.6 kB ? eta -:--:--\n",
      "     ---------------------------------------- 0.0/57.6 kB ? eta -:--:--\n",
      "     ---------------------------------------- 0.0/57.6 kB ? eta -:--:--\n",
      "     ---------------------------------------- 0.0/57.6 kB ? eta -:--:--\n",
      "     ---------------------------------------- 0.0/57.6 kB ? eta -:--:--\n",
      "     ---------------------------------------- 0.0/57.6 kB ? eta -:--:--\n",
      "     ---------------------------------------- 0.0/57.6 kB ? eta -:--:--\n",
      "     ---------------------------------------- 0.0/57.6 kB ? eta -:--:--\n",
      "     ---------------------------------------- 57.6/57.6 kB 3.0 MB/s eta 0:00:00\n",
      "Collecting python-slugify (from kaggle)\n",
      "  Downloading python_slugify-8.0.4-py2.py3-none-any.whl.metadata (8.5 kB)\n",
      "Requirement already satisfied: urllib3 in e:\\project\\sentiment analysis\\sentiment-analysis-\\env\\lib\\site-packages (from kaggle) (2.2.1)\n",
      "Requirement already satisfied: bleach in e:\\project\\sentiment analysis\\sentiment-analysis-\\env\\lib\\site-packages (from kaggle) (6.1.0)\n",
      "Requirement already satisfied: webencodings in e:\\project\\sentiment analysis\\sentiment-analysis-\\env\\lib\\site-packages (from bleach->kaggle) (0.5.1)\n",
      "Collecting text-unidecode>=1.3 (from python-slugify->kaggle)\n",
      "  Downloading text_unidecode-1.3-py2.py3-none-any.whl.metadata (2.4 kB)\n",
      "Requirement already satisfied: charset-normalizer<4,>=2 in e:\\project\\sentiment analysis\\sentiment-analysis-\\env\\lib\\site-packages (from requests->kaggle) (3.3.2)\n",
      "Requirement already satisfied: idna<4,>=2.5 in e:\\project\\sentiment analysis\\sentiment-analysis-\\env\\lib\\site-packages (from requests->kaggle) (3.7)\n",
      "Requirement already satisfied: colorama in e:\\project\\sentiment analysis\\sentiment-analysis-\\env\\lib\\site-packages (from tqdm->kaggle) (0.4.6)\n",
      "Downloading python_slugify-8.0.4-py2.py3-none-any.whl (10 kB)\n",
      "Downloading tqdm-4.66.4-py3-none-any.whl (78 kB)\n",
      "   ---------------------------------------- 0.0/78.3 kB ? eta -:--:--\n",
      "   --------------- ------------------------ 30.7/78.3 kB ? eta -:--:--\n",
      "   --------------- ------------------------ 30.7/78.3 kB ? eta -:--:--\n",
      "   --------------- ------------------------ 30.7/78.3 kB ? eta -:--:--\n",
      "   -------------------- ------------------- 41.0/78.3 kB 178.6 kB/s eta 0:00:01\n",
      "   -------------------- ------------------- 41.0/78.3 kB 178.6 kB/s eta 0:00:01\n",
      "   -------------------- ------------------- 41.0/78.3 kB 178.6 kB/s eta 0:00:01\n",
      "   -------------------- ------------------- 41.0/78.3 kB 178.6 kB/s eta 0:00:01\n",
      "   -------------------- ------------------- 41.0/78.3 kB 178.6 kB/s eta 0:00:01\n",
      "   ------------------------------- -------- 61.4/78.3 kB 130.9 kB/s eta 0:00:01\n",
      "   ------------------------------- -------- 61.4/78.3 kB 130.9 kB/s eta 0:00:01\n",
      "   ------------------------------- -------- 61.4/78.3 kB 130.9 kB/s eta 0:00:01\n",
      "   ------------------------------------ --- 71.7/78.3 kB 109.1 kB/s eta 0:00:01\n",
      "   ---------------------------------------- 78.3/78.3 kB 117.5 kB/s eta 0:00:00\n",
      "Downloading text_unidecode-1.3-py2.py3-none-any.whl (78 kB)\n",
      "   ---------------------------------------- 0.0/78.2 kB ? eta -:--:--\n",
      "   ---------------------------------------- 0.0/78.2 kB ? eta -:--:--\n",
      "   ----- ---------------------------------- 10.2/78.2 kB ? eta -:--:--\n",
      "   ----- ---------------------------------- 10.2/78.2 kB ? eta -:--:--\n",
      "   ----- ---------------------------------- 10.2/78.2 kB ? eta -:--:--\n",
      "   ----- ---------------------------------- 10.2/78.2 kB ? eta -:--:--\n",
      "   ----- ---------------------------------- 10.2/78.2 kB ? eta -:--:--\n",
      "   --------------- ------------------------ 30.7/78.2 kB 87.1 kB/s eta 0:00:01\n",
      "   --------------- ------------------------ 30.7/78.2 kB 87.1 kB/s eta 0:00:01\n",
      "   --------------- ------------------------ 30.7/78.2 kB 87.1 kB/s eta 0:00:01\n",
      "   -------------------- ------------------- 41.0/78.2 kB 81.9 kB/s eta 0:00:01\n",
      "   -------------------- ------------------- 41.0/78.2 kB 81.9 kB/s eta 0:00:01\n",
      "   -------------------- ------------------- 41.0/78.2 kB 81.9 kB/s eta 0:00:01\n",
      "   -------------------- ------------------- 41.0/78.2 kB 81.9 kB/s eta 0:00:01\n",
      "   -------------------- ------------------- 41.0/78.2 kB 81.9 kB/s eta 0:00:01\n",
      "   -------------------- ------------------- 41.0/78.2 kB 81.9 kB/s eta 0:00:01\n",
      "   -------------------- ------------------- 41.0/78.2 kB 81.9 kB/s eta 0:00:01\n",
      "   -------------------- ------------------- 41.0/78.2 kB 81.9 kB/s eta 0:00:01\n",
      "   -------------------- ------------------- 41.0/78.2 kB 81.9 kB/s eta 0:00:01\n",
      "   -------------------- ------------------- 41.0/78.2 kB 81.9 kB/s eta 0:00:01\n",
      "   -------------------- ------------------- 41.0/78.2 kB 81.9 kB/s eta 0:00:01\n",
      "   ---------------------------------------- 78.2/78.2 kB 77.6 kB/s eta 0:00:00\n",
      "Building wheels for collected packages: kaggle\n",
      "  Building wheel for kaggle (pyproject.toml): started\n",
      "  Building wheel for kaggle (pyproject.toml): finished with status 'done'\n",
      "  Created wheel for kaggle: filename=kaggle-1.6.14-py3-none-any.whl size=105128 sha256=58e591334f21c03de0925815da0630bca45092ca49316c4c2923256cdf30e9c1\n",
      "  Stored in directory: c:\\users\\atdil\\appdata\\local\\pip\\cache\\wheels\\89\\bc\\52\\0d140fc172783e1e72e3af4dfc13015dc154527fafb95e65cd\n",
      "Successfully built kaggle\n",
      "Installing collected packages: text-unidecode, tqdm, python-slugify, kaggle\n",
      "Successfully installed kaggle-1.6.14 python-slugify-8.0.4 text-unidecode-1.3 tqdm-4.66.4\n"
     ]
    }
   ],
   "source": [
    "!pip install kaggle"
   ]
  },
  {
   "cell_type": "code",
   "execution_count": 7,
   "metadata": {},
   "outputs": [],
   "source": [
    "import json\n",
    "with open('../artifacts/kaggle.json','r') as file:\n",
    "    data=json.load(file)\n"
   ]
  },
  {
   "cell_type": "code",
   "execution_count": 4,
   "metadata": {},
   "outputs": [],
   "source": [
    "import json\n",
    "with open('../artifacts/kaggle.json','r') as file:\n",
    "    data=json.load(file)"
   ]
  },
  {
   "cell_type": "code",
   "execution_count": 10,
   "metadata": {},
   "outputs": [],
   "source": [
    "import os\n",
    "os.environ['KAGGLE_USERNAME'] =data['username']\n",
    "os.environ['KAGGLE_KEY'] =data['key']"
   ]
  },
  {
   "cell_type": "code",
   "execution_count": 11,
   "metadata": {},
   "outputs": [],
   "source": [
    "from kaggle.api.kaggle_api_extended import KaggleApi\n",
    "api = KaggleApi()\n",
    "api.authenticate()"
   ]
  },
  {
   "cell_type": "code",
   "execution_count": 12,
   "metadata": {},
   "outputs": [
    {
     "name": "stdout",
     "output_type": "stream",
     "text": [
      "Dataset URL: https://www.kaggle.com/datasets/dineshpiyasamara/sentiment-analysis-dataset\n"
     ]
    }
   ],
   "source": [
    "api.dataset_download_files('dineshpiyasamara/sentiment-analysis-dataset', path='../artifacts/')"
   ]
  },
  {
   "cell_type": "code",
   "execution_count": 13,
   "metadata": {},
   "outputs": [],
   "source": [
    "import zipfile\n",
    "with zipfile.ZipFile('../artifacts/sentiment-analysis-dataset.zip', 'r') as zip_ref:\n",
    "    zip_ref.extractall('../artifacts/')"
   ]
  },
  {
   "cell_type": "code",
   "execution_count": null,
   "metadata": {},
   "outputs": [],
   "source": []
  }
 ],
 "metadata": {
  "kernelspec": {
   "display_name": "Python 3 (ipykernel)",
   "language": "python",
   "name": "python3"
  },
  "language_info": {
   "codemirror_mode": {
    "name": "ipython",
    "version": 3
   },
   "file_extension": ".py",
   "mimetype": "text/x-python",
   "name": "python",
   "nbconvert_exporter": "python",
   "pygments_lexer": "ipython3",
   "version": "3.12.3"
  }
 },
 "nbformat": 4,
 "nbformat_minor": 4
}
