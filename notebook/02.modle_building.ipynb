{
 "cells": [
  {
   "cell_type": "code",
   "execution_count": 2,
   "id": "e3bf46e6-32aa-4dfa-8bce-56d4bcf9078c",
   "metadata": {},
   "outputs": [
    {
     "name": "stderr",
     "output_type": "stream",
     "text": [
      "Matplotlib is building the font cache; this may take a moment.\n"
     ]
    }
   ],
   "source": [
    "import numpy as np\n",
    "import pandas as pd \n",
    "import matplotlib.pyplot as plt"
   ]
  },
  {
   "cell_type": "code",
   "execution_count": 3,
   "id": "bd0aee01-b43f-4926-b685-c70f9120c3f2",
   "metadata": {},
   "outputs": [],
   "source": [
    "data = pd.read_csv('../artifacts/sentiment_analysis.csv')"
   ]
  },
  {
   "cell_type": "code",
   "execution_count": 4,
   "id": "3ef58eb0-f29a-4fc1-a961-93f6d1e34394",
   "metadata": {},
   "outputs": [
    {
     "data": {
      "text/html": [
       "<div>\n",
       "<style scoped>\n",
       "    .dataframe tbody tr th:only-of-type {\n",
       "        vertical-align: middle;\n",
       "    }\n",
       "\n",
       "    .dataframe tbody tr th {\n",
       "        vertical-align: top;\n",
       "    }\n",
       "\n",
       "    .dataframe thead th {\n",
       "        text-align: right;\n",
       "    }\n",
       "</style>\n",
       "<table border=\"1\" class=\"dataframe\">\n",
       "  <thead>\n",
       "    <tr style=\"text-align: right;\">\n",
       "      <th></th>\n",
       "      <th>id</th>\n",
       "      <th>label</th>\n",
       "      <th>tweet</th>\n",
       "    </tr>\n",
       "  </thead>\n",
       "  <tbody>\n",
       "    <tr>\n",
       "      <th>0</th>\n",
       "      <td>1</td>\n",
       "      <td>0</td>\n",
       "      <td>#fingerprint #Pregnancy Test https://goo.gl/h1...</td>\n",
       "    </tr>\n",
       "    <tr>\n",
       "      <th>1</th>\n",
       "      <td>2</td>\n",
       "      <td>0</td>\n",
       "      <td>Finally a transparant silicon case ^^ Thanks t...</td>\n",
       "    </tr>\n",
       "    <tr>\n",
       "      <th>2</th>\n",
       "      <td>3</td>\n",
       "      <td>0</td>\n",
       "      <td>We love this! Would you go? #talk #makememorie...</td>\n",
       "    </tr>\n",
       "    <tr>\n",
       "      <th>3</th>\n",
       "      <td>4</td>\n",
       "      <td>0</td>\n",
       "      <td>I'm wired I know I'm George I was made that wa...</td>\n",
       "    </tr>\n",
       "    <tr>\n",
       "      <th>4</th>\n",
       "      <td>5</td>\n",
       "      <td>1</td>\n",
       "      <td>What amazing service! Apple won't even talk to...</td>\n",
       "    </tr>\n",
       "  </tbody>\n",
       "</table>\n",
       "</div>"
      ],
      "text/plain": [
       "   id  label                                              tweet\n",
       "0   1      0  #fingerprint #Pregnancy Test https://goo.gl/h1...\n",
       "1   2      0  Finally a transparant silicon case ^^ Thanks t...\n",
       "2   3      0  We love this! Would you go? #talk #makememorie...\n",
       "3   4      0  I'm wired I know I'm George I was made that wa...\n",
       "4   5      1  What amazing service! Apple won't even talk to..."
      ]
     },
     "execution_count": 4,
     "metadata": {},
     "output_type": "execute_result"
    }
   ],
   "source": [
    "data.head()"
   ]
  },
  {
   "cell_type": "markdown",
   "id": "f503ba17-2864-4e20-8c55-219a6fc9af23",
   "metadata": {},
   "source": [
    "##DATA PREPROSASING"
   ]
  },
  {
   "cell_type": "code",
   "execution_count": 6,
   "id": "385642ee-efa0-4e39-9dd0-af19fb60f9b9",
   "metadata": {},
   "outputs": [
    {
     "data": {
      "text/plain": [
       "(7920, 3)"
      ]
     },
     "execution_count": 6,
     "metadata": {},
     "output_type": "execute_result"
    }
   ],
   "source": [
    "data.shape"
   ]
  },
  {
   "cell_type": "code",
   "execution_count": 7,
   "id": "3db8b221-6366-41f7-94e0-143dde702e4e",
   "metadata": {},
   "outputs": [
    {
     "data": {
      "text/plain": [
       "0"
      ]
     },
     "execution_count": 7,
     "metadata": {},
     "output_type": "execute_result"
    }
   ],
   "source": [
    "data.duplicated().sum()"
   ]
  },
  {
   "cell_type": "code",
   "execution_count": 8,
   "id": "04c76d1c-0a54-4959-8865-f0c6335df912",
   "metadata": {},
   "outputs": [
    {
     "data": {
      "text/plain": [
       "id       0\n",
       "label    0\n",
       "tweet    0\n",
       "dtype: int64"
      ]
     },
     "execution_count": 8,
     "metadata": {},
     "output_type": "execute_result"
    }
   ],
   "source": [
    "data.isnull().sum()"
   ]
  },
  {
   "cell_type": "markdown",
   "id": "f336dd70-d51b-47b4-a651-8829a7b8d373",
   "metadata": {},
   "source": [
    "###Text Preprocessing"
   ]
  },
  {
   "cell_type": "code",
   "execution_count": 10,
   "id": "08a2dbcb-e01f-44ae-b355-c7e89e5a5f0e",
   "metadata": {},
   "outputs": [],
   "source": [
    "import re\n",
    "import string"
   ]
  },
  {
   "cell_type": "code",
   "execution_count": 12,
   "id": "65642808-6212-440d-8c3d-98c5b3289e76",
   "metadata": {},
   "outputs": [
    {
     "data": {
      "text/plain": [
       "0    #fingerprint #Pregnancy Test https://goo.gl/h1...\n",
       "1    Finally a transparant silicon case ^^ Thanks t...\n",
       "2    We love this! Would you go? #talk #makememorie...\n",
       "3    I'm wired I know I'm George I was made that wa...\n",
       "4    What amazing service! Apple won't even talk to...\n",
       "Name: tweet, dtype: object"
      ]
     },
     "execution_count": 12,
     "metadata": {},
     "output_type": "execute_result"
    }
   ],
   "source": [
    "data[\"tweet\"].head(5)"
   ]
  },
  {
   "cell_type": "markdown",
   "id": "f4af6d89-b476-4f50-970a-fe7295fba034",
   "metadata": {},
   "source": [
    "CONVERT TO LOWERCASE"
   ]
  },
  {
   "cell_type": "code",
   "execution_count": 14,
   "id": "af40adb9-00f3-4f5e-b8c1-88015aaab575",
   "metadata": {},
   "outputs": [],
   "source": [
    "data[\"tweet\"] = data[\"tweet\"].apply(lambda x: \" \".join(x.lower() for x in x.split()))"
   ]
  },
  {
   "cell_type": "code",
   "execution_count": 15,
   "id": "e1d99489-9a74-42bf-8fad-56d342b6beef",
   "metadata": {},
   "outputs": [
    {
     "data": {
      "text/plain": [
       "0    #fingerprint #pregnancy test https://goo.gl/h1...\n",
       "1    finally a transparant silicon case ^^ thanks t...\n",
       "2    we love this! would you go? #talk #makememorie...\n",
       "3    i'm wired i know i'm george i was made that wa...\n",
       "4    what amazing service! apple won't even talk to...\n",
       "Name: tweet, dtype: object"
      ]
     },
     "execution_count": 15,
     "metadata": {},
     "output_type": "execute_result"
    }
   ],
   "source": [
    "data[\"tweet\"].head(5)"
   ]
  },
  {
   "cell_type": "markdown",
   "id": "e31d6dd9-020b-496c-bb5f-9b9920543627",
   "metadata": {},
   "source": [
    "REMOVE LINKS\n"
   ]
  },
  {
   "cell_type": "code",
   "execution_count": 16,
   "id": "f2470f9e-c74e-4df7-bec0-2089202f55d1",
   "metadata": {},
   "outputs": [],
   "source": [
    "data[\"tweet\"] = data['tweet'].apply(lambda x: \" \".join(re.sub(r'^https?:\\/\\/.*[\\r\\n]*', '', x, flags=re.MULTILINE) for x in x.split()))"
   ]
  },
  {
   "cell_type": "code",
   "execution_count": 17,
   "id": "b38cfacd-5ec9-47a4-9e0f-d9b3b4dd0ac8",
   "metadata": {},
   "outputs": [
    {
     "data": {
      "text/plain": [
       "0    #fingerprint #pregnancy test  #android #apps #...\n",
       "1    finally a transparant silicon case ^^ thanks t...\n",
       "2    we love this! would you go? #talk #makememorie...\n",
       "3    i'm wired i know i'm george i was made that wa...\n",
       "4    what amazing service! apple won't even talk to...\n",
       "Name: tweet, dtype: object"
      ]
     },
     "execution_count": 17,
     "metadata": {},
     "output_type": "execute_result"
    }
   ],
   "source": [
    "data[\"tweet\"].head(5)"
   ]
  },
  {
   "cell_type": "markdown",
   "id": "5ee6e5a7-8a3f-40f5-8773-213dbd9fa1e1",
   "metadata": {},
   "source": [
    "REMOVE PUNCTUATIONS"
   ]
  },
  {
   "cell_type": "code",
   "execution_count": 19,
   "id": "d3a3ce20-4450-49bb-867f-a6af9b893a0e",
   "metadata": {},
   "outputs": [
    {
     "data": {
      "text/plain": [
       "'!\"#$%&\\'()*+,-./:;<=>?@[\\\\]^_`{|}~'"
      ]
     },
     "execution_count": 19,
     "metadata": {},
     "output_type": "execute_result"
    }
   ],
   "source": [
    "string.punctuation"
   ]
  },
  {
   "cell_type": "code",
   "execution_count": 20,
   "id": "aef0c7cd-ca32-43c9-ac31-78313d33b3ff",
   "metadata": {},
   "outputs": [],
   "source": [
    "def remove_punctuations(text):\n",
    "    for punctuation in string.punctuation:\n",
    "        text = text.replace(punctuation, '')\n",
    "    return text\n",
    "\n",
    "data[\"tweet\"] = data[\"tweet\"].apply(remove_punctuations)"
   ]
  },
  {
   "cell_type": "code",
   "execution_count": 28,
   "id": "9b8fb16a-7d93-4fb4-94ca-1f22cd025a01",
   "metadata": {},
   "outputs": [
    {
     "data": {
      "text/plain": [
       "7900    why did my iphone calendar link with my facebo...\n",
       "7901    brendanbrady the new apple advert can fuck off...\n",
       "7902    all i wanna do is put music from my itunes on ...\n",
       "7903    kaylahinks snapchatprobbz haha so true deleted...\n",
       "7904    fuckyou apple one thing stops working and i ha...\n",
       "7905    ove a fist inside my  oh god i a fist inside m...\n",
       "7906    legit feels like i have a brand new phone appl...\n",
       "7907    tipsy rhymes with e ye we je mi ne donts miss ...\n",
       "7908    second fucking time stay on hold for  mins and...\n",
       "7909    rt monteithelgort first post from my new phone...\n",
       "7910    perfect match instagood applewatch red instagr...\n",
       "7911    i am completely in love with the new iphone em...\n",
       "7912    tune in turn on drop out  gtd in one app  mobi...\n",
       "7913    ok so my galaxy crashed after one day now i ha...\n",
       "7914    gain followers rt this must follow me i follow...\n",
       "7915    live out loud lol liveoutloud selfie smile son...\n",
       "7916    we would like to wish you an amazing day make ...\n",
       "7917    helping my lovely  year old neighbor with her ...\n",
       "7918    finally got my smart pocket wifi stay connecte...\n",
       "7919    apple barcelona apple store bcn barcelona trav...\n",
       "Name: tweet, dtype: object"
      ]
     },
     "execution_count": 28,
     "metadata": {},
     "output_type": "execute_result"
    }
   ],
   "source": [
    "data[\"tweet\"].tail(20)"
   ]
  },
  {
   "cell_type": "markdown",
   "id": "90ae45dd-6bc3-46d6-8c65-f428f6c7c32c",
   "metadata": {},
   "source": [
    "REMOVE NUMBERS"
   ]
  },
  {
   "cell_type": "code",
   "execution_count": 27,
   "id": "e5fb296d-4559-45d1-9a6d-91ac54be23d9",
   "metadata": {},
   "outputs": [],
   "source": [
    "data[\"tweet\"] = data[\"tweet\"].str.replace(r'\\d+', '', regex=True)"
   ]
  },
  {
   "cell_type": "code",
   "execution_count": 29,
   "id": "b3e3deb4-6434-46d7-9f9f-955bc4aae1bb",
   "metadata": {},
   "outputs": [
    {
     "data": {
      "text/plain": [
       "7910    perfect match instagood applewatch red instagr...\n",
       "7911    i am completely in love with the new iphone em...\n",
       "7912    tune in turn on drop out  gtd in one app  mobi...\n",
       "7913    ok so my galaxy crashed after one day now i ha...\n",
       "7914    gain followers rt this must follow me i follow...\n",
       "7915    live out loud lol liveoutloud selfie smile son...\n",
       "7916    we would like to wish you an amazing day make ...\n",
       "7917    helping my lovely  year old neighbor with her ...\n",
       "7918    finally got my smart pocket wifi stay connecte...\n",
       "7919    apple barcelona apple store bcn barcelona trav...\n",
       "Name: tweet, dtype: object"
      ]
     },
     "execution_count": 29,
     "metadata": {},
     "output_type": "execute_result"
    }
   ],
   "source": [
    "data[\"tweet\"].tail(10)"
   ]
  },
  {
   "cell_type": "markdown",
   "id": "8d03584b-64ee-41ec-8001-ba24444b0664",
   "metadata": {},
   "source": [
    "remove stopwords"
   ]
  },
  {
   "cell_type": "code",
   "execution_count": 30,
   "id": "8675988d-01d0-48b0-b257-76bcbdf45bd5",
   "metadata": {},
   "outputs": [
    {
     "name": "stdout",
     "output_type": "stream",
     "text": [
      "Collecting nltk\n",
      "  Downloading nltk-3.8.1-py3-none-any.whl.metadata (2.8 kB)\n",
      "Collecting click (from nltk)\n",
      "  Using cached click-8.1.7-py3-none-any.whl.metadata (3.0 kB)\n",
      "Collecting joblib (from nltk)\n",
      "  Using cached joblib-1.4.2-py3-none-any.whl.metadata (5.4 kB)\n",
      "Collecting regex>=2021.8.3 (from nltk)\n",
      "  Downloading regex-2024.5.15-cp312-cp312-win_amd64.whl.metadata (41 kB)\n",
      "     ---------------------------------------- 0.0/42.0 kB ? eta -:--:--\n",
      "     --------- ------------------------------ 10.2/42.0 kB ? eta -:--:--\n",
      "     ------------------ ------------------- 20.5/42.0 kB 217.9 kB/s eta 0:00:01\n",
      "     --------------------------- ---------- 30.7/42.0 kB 217.9 kB/s eta 0:00:01\n",
      "     -------------------------------------- 42.0/42.0 kB 225.1 kB/s eta 0:00:00\n",
      "Requirement already satisfied: tqdm in e:\\project\\sentiment analysis\\sentiment-analysis-\\env\\lib\\site-packages (from nltk) (4.66.4)\n",
      "Requirement already satisfied: colorama in e:\\project\\sentiment analysis\\sentiment-analysis-\\env\\lib\\site-packages (from click->nltk) (0.4.6)\n",
      "Downloading nltk-3.8.1-py3-none-any.whl (1.5 MB)\n",
      "   ---------------------------------------- 0.0/1.5 MB ? eta -:--:--\n",
      "    --------------------------------------- 0.0/1.5 MB ? eta -:--:--\n",
      "   - -------------------------------------- 0.0/1.5 MB 1.9 MB/s eta 0:00:01\n",
      "   - -------------------------------------- 0.0/1.5 MB 1.9 MB/s eta 0:00:01\n",
      "   -- ------------------------------------- 0.1/1.5 MB 508.4 kB/s eta 0:00:03\n",
      "   ---- ----------------------------------- 0.2/1.5 MB 807.1 kB/s eta 0:00:02\n",
      "   ----- ---------------------------------- 0.2/1.5 MB 784.3 kB/s eta 0:00:02\n",
      "   ----- ---------------------------------- 0.2/1.5 MB 689.9 kB/s eta 0:00:02\n",
      "   ------- -------------------------------- 0.3/1.5 MB 774.0 kB/s eta 0:00:02\n",
      "   --------- ------------------------------ 0.4/1.5 MB 890.4 kB/s eta 0:00:02\n",
      "   ---------- ----------------------------- 0.4/1.5 MB 888.4 kB/s eta 0:00:02\n",
      "   ------------- -------------------------- 0.5/1.5 MB 1.0 MB/s eta 0:00:01\n",
      "   --------------- ------------------------ 0.6/1.5 MB 1.1 MB/s eta 0:00:01\n",
      "   ----------------- ---------------------- 0.7/1.5 MB 1.1 MB/s eta 0:00:01\n",
      "   -------------------- ------------------- 0.8/1.5 MB 1.2 MB/s eta 0:00:01\n",
      "   --------------------- ------------------ 0.8/1.5 MB 1.2 MB/s eta 0:00:01\n",
      "   ----------------------- ---------------- 0.9/1.5 MB 1.3 MB/s eta 0:00:01\n",
      "   -------------------------- ------------- 1.0/1.5 MB 1.3 MB/s eta 0:00:01\n",
      "   ----------------------------- ---------- 1.1/1.5 MB 1.4 MB/s eta 0:00:01\n",
      "   ------------------------------- -------- 1.2/1.5 MB 1.4 MB/s eta 0:00:01\n",
      "   ---------------------------------- ----- 1.3/1.5 MB 1.5 MB/s eta 0:00:01\n",
      "   ------------------------------------- -- 1.4/1.5 MB 1.5 MB/s eta 0:00:01\n",
      "   ---------------------------------------  1.5/1.5 MB 1.5 MB/s eta 0:00:01\n",
      "   ---------------------------------------- 1.5/1.5 MB 1.5 MB/s eta 0:00:00\n",
      "Downloading regex-2024.5.15-cp312-cp312-win_amd64.whl (268 kB)\n",
      "   ---------------------------------------- 0.0/268.5 kB ? eta -:--:--\n",
      "   ------------ --------------------------- 81.9/268.5 kB 2.3 MB/s eta 0:00:01\n",
      "   ------------------------------ --------- 204.8/268.5 kB 2.5 MB/s eta 0:00:01\n",
      "   ---------------------------------------- 268.5/268.5 kB 2.7 MB/s eta 0:00:00\n",
      "Using cached click-8.1.7-py3-none-any.whl (97 kB)\n",
      "Using cached joblib-1.4.2-py3-none-any.whl (301 kB)\n",
      "Installing collected packages: regex, joblib, click, nltk\n",
      "Successfully installed click-8.1.7 joblib-1.4.2 nltk-3.8.1 regex-2024.5.15\n"
     ]
    }
   ],
   "source": [
    "!pip install nltk"
   ]
  },
  {
   "cell_type": "code",
   "execution_count": 31,
   "id": "fab574d6-0f41-4184-8541-86e4ce6b2d09",
   "metadata": {},
   "outputs": [],
   "source": [
    "import nltk"
   ]
  },
  {
   "cell_type": "code",
   "execution_count": 34,
   "id": "0b1a9676-d524-4184-a0e6-f176cdf05fb7",
   "metadata": {},
   "outputs": [
    {
     "name": "stderr",
     "output_type": "stream",
     "text": [
      "[nltk_data] Downloading package stopwords to ../static/model...\n",
      "[nltk_data]   Package stopwords is already up-to-date!\n"
     ]
    },
    {
     "data": {
      "text/plain": [
       "True"
      ]
     },
     "execution_count": 34,
     "metadata": {},
     "output_type": "execute_result"
    }
   ],
   "source": [
    "nltk.download('stopwords', download_dir='../static/model')"
   ]
  },
  {
   "cell_type": "code",
   "execution_count": 35,
   "id": "4720f045-d7bf-4e78-8da5-965a236d60e8",
   "metadata": {},
   "outputs": [
    {
     "name": "stderr",
     "output_type": "stream",
     "text": [
      "[nltk_data] Downloading package stopwords to\n",
      "[nltk_data]     ../static/model/corpora...\n",
      "[nltk_data]   Unzipping corpora\\stopwords.zip.\n"
     ]
    },
    {
     "data": {
      "text/plain": [
       "True"
      ]
     },
     "execution_count": 35,
     "metadata": {},
     "output_type": "execute_result"
    }
   ],
   "source": [
    "nltk.download('stopwords', download_dir='../static/model/corpora')"
   ]
  },
  {
   "cell_type": "code",
   "execution_count": 36,
   "id": "4bc5f561-4c94-4d00-b31b-4b7a2b296b69",
   "metadata": {},
   "outputs": [],
   "source": [
    "with open('../static/model/corpora/stopwords/english', 'r') as file:\n",
    "    sw = file.read().splitlines()"
   ]
  },
  {
   "cell_type": "code",
   "execution_count": 37,
   "id": "09f0f62a-6535-41ec-948a-ef0dee836598",
   "metadata": {},
   "outputs": [
    {
     "data": {
      "text/plain": [
       "['i',\n",
       " 'me',\n",
       " 'my',\n",
       " 'myself',\n",
       " 'we',\n",
       " 'our',\n",
       " 'ours',\n",
       " 'ourselves',\n",
       " 'you',\n",
       " \"you're\",\n",
       " \"you've\",\n",
       " \"you'll\",\n",
       " \"you'd\",\n",
       " 'your',\n",
       " 'yours',\n",
       " 'yourself',\n",
       " 'yourselves',\n",
       " 'he',\n",
       " 'him',\n",
       " 'his',\n",
       " 'himself',\n",
       " 'she',\n",
       " \"she's\",\n",
       " 'her',\n",
       " 'hers',\n",
       " 'herself',\n",
       " 'it',\n",
       " \"it's\",\n",
       " 'its',\n",
       " 'itself',\n",
       " 'they',\n",
       " 'them',\n",
       " 'their',\n",
       " 'theirs',\n",
       " 'themselves',\n",
       " 'what',\n",
       " 'which',\n",
       " 'who',\n",
       " 'whom',\n",
       " 'this',\n",
       " 'that',\n",
       " \"that'll\",\n",
       " 'these',\n",
       " 'those',\n",
       " 'am',\n",
       " 'is',\n",
       " 'are',\n",
       " 'was',\n",
       " 'were',\n",
       " 'be',\n",
       " 'been',\n",
       " 'being',\n",
       " 'have',\n",
       " 'has',\n",
       " 'had',\n",
       " 'having',\n",
       " 'do',\n",
       " 'does',\n",
       " 'did',\n",
       " 'doing',\n",
       " 'a',\n",
       " 'an',\n",
       " 'the',\n",
       " 'and',\n",
       " 'but',\n",
       " 'if',\n",
       " 'or',\n",
       " 'because',\n",
       " 'as',\n",
       " 'until',\n",
       " 'while',\n",
       " 'of',\n",
       " 'at',\n",
       " 'by',\n",
       " 'for',\n",
       " 'with',\n",
       " 'about',\n",
       " 'against',\n",
       " 'between',\n",
       " 'into',\n",
       " 'through',\n",
       " 'during',\n",
       " 'before',\n",
       " 'after',\n",
       " 'above',\n",
       " 'below',\n",
       " 'to',\n",
       " 'from',\n",
       " 'up',\n",
       " 'down',\n",
       " 'in',\n",
       " 'out',\n",
       " 'on',\n",
       " 'off',\n",
       " 'over',\n",
       " 'under',\n",
       " 'again',\n",
       " 'further',\n",
       " 'then',\n",
       " 'once',\n",
       " 'here',\n",
       " 'there',\n",
       " 'when',\n",
       " 'where',\n",
       " 'why',\n",
       " 'how',\n",
       " 'all',\n",
       " 'any',\n",
       " 'both',\n",
       " 'each',\n",
       " 'few',\n",
       " 'more',\n",
       " 'most',\n",
       " 'other',\n",
       " 'some',\n",
       " 'such',\n",
       " 'no',\n",
       " 'nor',\n",
       " 'not',\n",
       " 'only',\n",
       " 'own',\n",
       " 'same',\n",
       " 'so',\n",
       " 'than',\n",
       " 'too',\n",
       " 'very',\n",
       " 's',\n",
       " 't',\n",
       " 'can',\n",
       " 'will',\n",
       " 'just',\n",
       " 'don',\n",
       " \"don't\",\n",
       " 'should',\n",
       " \"should've\",\n",
       " 'now',\n",
       " 'd',\n",
       " 'll',\n",
       " 'm',\n",
       " 'o',\n",
       " 're',\n",
       " 've',\n",
       " 'y',\n",
       " 'ain',\n",
       " 'aren',\n",
       " \"aren't\",\n",
       " 'couldn',\n",
       " \"couldn't\",\n",
       " 'didn',\n",
       " \"didn't\",\n",
       " 'doesn',\n",
       " \"doesn't\",\n",
       " 'hadn',\n",
       " \"hadn't\",\n",
       " 'hasn',\n",
       " \"hasn't\",\n",
       " 'haven',\n",
       " \"haven't\",\n",
       " 'isn',\n",
       " \"isn't\",\n",
       " 'ma',\n",
       " 'mightn',\n",
       " \"mightn't\",\n",
       " 'mustn',\n",
       " \"mustn't\",\n",
       " 'needn',\n",
       " \"needn't\",\n",
       " 'shan',\n",
       " \"shan't\",\n",
       " 'shouldn',\n",
       " \"shouldn't\",\n",
       " 'wasn',\n",
       " \"wasn't\",\n",
       " 'weren',\n",
       " \"weren't\",\n",
       " 'won',\n",
       " \"won't\",\n",
       " 'wouldn',\n",
       " \"wouldn't\"]"
      ]
     },
     "execution_count": 37,
     "metadata": {},
     "output_type": "execute_result"
    }
   ],
   "source": [
    "sw"
   ]
  },
  {
   "cell_type": "code",
   "execution_count": 38,
   "id": "6357b4e9-c117-4bc4-ad77-269094c649e4",
   "metadata": {},
   "outputs": [],
   "source": [
    "data[\"tweet\"] = data[\"tweet\"].apply(lambda x: \" \".join(x for x in x.split() if x not in sw))"
   ]
  },
  {
   "cell_type": "code",
   "execution_count": 39,
   "id": "9665a87f-c82a-4fdd-8435-b933dc72b58c",
   "metadata": {},
   "outputs": [
    {
     "data": {
      "text/plain": [
       "0    fingerprint pregnancy test android apps beauti...\n",
       "1    finally transparant silicon case thanks uncle ...\n",
       "2    love would go talk makememories unplug relax i...\n",
       "3    im wired know im george made way iphone cute d...\n",
       "4    amazing service apple wont even talk question ...\n",
       "Name: tweet, dtype: object"
      ]
     },
     "execution_count": 39,
     "metadata": {},
     "output_type": "execute_result"
    }
   ],
   "source": [
    "data[\"tweet\"].head()"
   ]
  },
  {
   "cell_type": "markdown",
   "id": "95a70a65-7b66-4937-922f-394b157de672",
   "metadata": {},
   "source": [
    "Stemming"
   ]
  },
  {
   "cell_type": "code",
   "execution_count": 40,
   "id": "8e4706bf-eb6c-4441-921e-713a4aaf7ec3",
   "metadata": {},
   "outputs": [],
   "source": [
    "from nltk.stem import PorterStemmer\n",
    "ps = PorterStemmer()"
   ]
  },
  {
   "cell_type": "code",
   "execution_count": 41,
   "id": "8cf7f43f-8dc2-471a-87f6-e453f2783d6d",
   "metadata": {},
   "outputs": [],
   "source": [
    "data[\"tweet\"] = data[\"tweet\"].apply(lambda x: \" \".join(ps.stem(x) for x in x.split()))"
   ]
  },
  {
   "cell_type": "code",
   "execution_count": 42,
   "id": "0b8e6c3c-3373-4c6e-b1c5-a23e299f7c1f",
   "metadata": {},
   "outputs": [
    {
     "data": {
      "text/plain": [
       "0    fingerprint pregnanc test android app beauti c...\n",
       "1    final transpar silicon case thank uncl yay son...\n",
       "2    love would go talk makememori unplug relax iph...\n",
       "3    im wire know im georg made way iphon cute dave...\n",
       "4    amaz servic appl wont even talk question unles...\n",
       "Name: tweet, dtype: object"
      ]
     },
     "execution_count": 42,
     "metadata": {},
     "output_type": "execute_result"
    }
   ],
   "source": [
    "data[\"tweet\"].head()"
   ]
  },
  {
   "cell_type": "code",
   "execution_count": 43,
   "id": "124b6dc7-328b-48fb-8038-8cc0aed94de7",
   "metadata": {},
   "outputs": [
    {
     "data": {
      "text/html": [
       "<div>\n",
       "<style scoped>\n",
       "    .dataframe tbody tr th:only-of-type {\n",
       "        vertical-align: middle;\n",
       "    }\n",
       "\n",
       "    .dataframe tbody tr th {\n",
       "        vertical-align: top;\n",
       "    }\n",
       "\n",
       "    .dataframe thead th {\n",
       "        text-align: right;\n",
       "    }\n",
       "</style>\n",
       "<table border=\"1\" class=\"dataframe\">\n",
       "  <thead>\n",
       "    <tr style=\"text-align: right;\">\n",
       "      <th></th>\n",
       "      <th>id</th>\n",
       "      <th>label</th>\n",
       "      <th>tweet</th>\n",
       "    </tr>\n",
       "  </thead>\n",
       "  <tbody>\n",
       "    <tr>\n",
       "      <th>0</th>\n",
       "      <td>1</td>\n",
       "      <td>0</td>\n",
       "      <td>fingerprint pregnanc test android app beauti c...</td>\n",
       "    </tr>\n",
       "    <tr>\n",
       "      <th>1</th>\n",
       "      <td>2</td>\n",
       "      <td>0</td>\n",
       "      <td>final transpar silicon case thank uncl yay son...</td>\n",
       "    </tr>\n",
       "    <tr>\n",
       "      <th>2</th>\n",
       "      <td>3</td>\n",
       "      <td>0</td>\n",
       "      <td>love would go talk makememori unplug relax iph...</td>\n",
       "    </tr>\n",
       "    <tr>\n",
       "      <th>3</th>\n",
       "      <td>4</td>\n",
       "      <td>0</td>\n",
       "      <td>im wire know im georg made way iphon cute dave...</td>\n",
       "    </tr>\n",
       "    <tr>\n",
       "      <th>4</th>\n",
       "      <td>5</td>\n",
       "      <td>1</td>\n",
       "      <td>amaz servic appl wont even talk question unles...</td>\n",
       "    </tr>\n",
       "    <tr>\n",
       "      <th>...</th>\n",
       "      <td>...</td>\n",
       "      <td>...</td>\n",
       "      <td>...</td>\n",
       "    </tr>\n",
       "    <tr>\n",
       "      <th>7915</th>\n",
       "      <td>7916</td>\n",
       "      <td>0</td>\n",
       "      <td>live loud lol liveoutloud selfi smile soni mus...</td>\n",
       "    </tr>\n",
       "    <tr>\n",
       "      <th>7916</th>\n",
       "      <td>7917</td>\n",
       "      <td>0</td>\n",
       "      <td>would like wish amaz day make everi minut coun...</td>\n",
       "    </tr>\n",
       "    <tr>\n",
       "      <th>7917</th>\n",
       "      <td>7918</td>\n",
       "      <td>0</td>\n",
       "      <td>help love year old neighbor ipad morn made rea...</td>\n",
       "    </tr>\n",
       "    <tr>\n",
       "      <th>7918</th>\n",
       "      <td>7919</td>\n",
       "      <td>0</td>\n",
       "      <td>final got smart pocket wifi stay connect anyti...</td>\n",
       "    </tr>\n",
       "    <tr>\n",
       "      <th>7919</th>\n",
       "      <td>7920</td>\n",
       "      <td>0</td>\n",
       "      <td>appl barcelona appl store bcn barcelona travel...</td>\n",
       "    </tr>\n",
       "  </tbody>\n",
       "</table>\n",
       "<p>7920 rows × 3 columns</p>\n",
       "</div>"
      ],
      "text/plain": [
       "        id  label                                              tweet\n",
       "0        1      0  fingerprint pregnanc test android app beauti c...\n",
       "1        2      0  final transpar silicon case thank uncl yay son...\n",
       "2        3      0  love would go talk makememori unplug relax iph...\n",
       "3        4      0  im wire know im georg made way iphon cute dave...\n",
       "4        5      1  amaz servic appl wont even talk question unles...\n",
       "...    ...    ...                                                ...\n",
       "7915  7916      0  live loud lol liveoutloud selfi smile soni mus...\n",
       "7916  7917      0  would like wish amaz day make everi minut coun...\n",
       "7917  7918      0  help love year old neighbor ipad morn made rea...\n",
       "7918  7919      0  final got smart pocket wifi stay connect anyti...\n",
       "7919  7920      0  appl barcelona appl store bcn barcelona travel...\n",
       "\n",
       "[7920 rows x 3 columns]"
      ]
     },
     "execution_count": 43,
     "metadata": {},
     "output_type": "execute_result"
    }
   ],
   "source": [
    "data"
   ]
  },
  {
   "cell_type": "markdown",
   "id": "914555c2-5895-411a-af44-130a27049825",
   "metadata": {},
   "source": [
    "Building Vacabulary"
   ]
  },
  {
   "cell_type": "code",
   "execution_count": 44,
   "id": "e90b16f7-e8d7-427c-9d75-d5ed8fa1dd62",
   "metadata": {},
   "outputs": [],
   "source": [
    "from collections import Counter\n",
    "vocab = Counter()"
   ]
  },
  {
   "cell_type": "code",
   "execution_count": 45,
   "id": "ee2c54a5-02eb-4855-952e-6fd90c3ac0fd",
   "metadata": {},
   "outputs": [
    {
     "data": {
      "text/plain": [
       "Counter()"
      ]
     },
     "execution_count": 45,
     "metadata": {},
     "output_type": "execute_result"
    }
   ],
   "source": [
    "vocab"
   ]
  },
  {
   "cell_type": "code",
   "execution_count": 46,
   "id": "7187603d-15ba-400a-8df8-e461eb2479db",
   "metadata": {},
   "outputs": [],
   "source": [
    "for sentence in data['tweet']:\n",
    "    vocab.update(sentence.split())"
   ]
  },
  {
   "cell_type": "code",
   "execution_count": 47,
   "id": "cfabed1a-ac2b-41f9-93a7-cf21af624065",
   "metadata": {},
   "outputs": [
    {
     "data": {
      "text/plain": [
       "15949"
      ]
     },
     "execution_count": 47,
     "metadata": {},
     "output_type": "execute_result"
    }
   ],
   "source": [
    "len(vocab)"
   ]
  },
  {
   "cell_type": "code",
   "execution_count": 48,
   "id": "978b4f88-9831-4d7d-89fd-7d3434be2f0d",
   "metadata": {},
   "outputs": [
    {
     "data": {
      "text/plain": [
       "(7920, 3)"
      ]
     },
     "execution_count": 48,
     "metadata": {},
     "output_type": "execute_result"
    }
   ],
   "source": [
    "data.shape"
   ]
  },
  {
   "cell_type": "code",
   "execution_count": 49,
   "id": "0ba71d44-6431-4ab2-a256-795ba86b2373",
   "metadata": {},
   "outputs": [],
   "source": [
    "tokens = [key for key in vocab if vocab[key] > 10]"
   ]
  },
  {
   "cell_type": "code",
   "execution_count": 50,
   "id": "56715ccb-6f9c-466a-8604-60da86654215",
   "metadata": {},
   "outputs": [
    {
     "data": {
      "text/plain": [
       "['test',\n",
       " 'android',\n",
       " 'app',\n",
       " 'beauti',\n",
       " 'cute',\n",
       " 'health',\n",
       " 'iger',\n",
       " 'iphoneonli',\n",
       " 'iphonesia',\n",
       " 'iphon',\n",
       " 'final',\n",
       " 'case',\n",
       " 'thank',\n",
       " 'yay',\n",
       " 'soni',\n",
       " 'xperia',\n",
       " 'love',\n",
       " 'would',\n",
       " 'go',\n",
       " 'talk',\n",
       " 'relax',\n",
       " 'smartphon',\n",
       " 'wifi',\n",
       " 'connect',\n",
       " 'im',\n",
       " 'know',\n",
       " 'made',\n",
       " 'way',\n",
       " 'home',\n",
       " 'amaz',\n",
       " 'servic',\n",
       " 'appl',\n",
       " 'wont',\n",
       " 'even',\n",
       " 'question',\n",
       " 'pay',\n",
       " 'stupid',\n",
       " 'support',\n",
       " 'softwar',\n",
       " 'updat',\n",
       " 'fuck',\n",
       " 'phone',\n",
       " 'big',\n",
       " 'time',\n",
       " 'happi',\n",
       " 'us',\n",
       " 'instap',\n",
       " 'instadaili',\n",
       " 'xperiaz',\n",
       " 'new',\n",
       " 'type',\n",
       " 'c',\n",
       " 'charger',\n",
       " 'cabl',\n",
       " 'uk',\n",
       " '…',\n",
       " 'amazon',\n",
       " 'year',\n",
       " 'newyear',\n",
       " 'start',\n",
       " 'technolog',\n",
       " 'samsunggalaxi',\n",
       " 'iphonex',\n",
       " 'shop',\n",
       " 'listen',\n",
       " 'music',\n",
       " 'likeforlik',\n",
       " 'photo',\n",
       " 'fun',\n",
       " 'selfi',\n",
       " 'water',\n",
       " 'camera',\n",
       " 'picoftheday',\n",
       " 'sun',\n",
       " 'instagood',\n",
       " 'boy',\n",
       " 'outdoor',\n",
       " 'hey',\n",
       " 'make',\n",
       " 'ipod',\n",
       " 'dont',\n",
       " 'color',\n",
       " 'inch',\n",
       " 'crash',\n",
       " 'everi',\n",
       " 'need',\n",
       " 'realli',\n",
       " 'drop',\n",
       " 'ball',\n",
       " 'design',\n",
       " 'give',\n",
       " 'anoth',\n",
       " 'crazi',\n",
       " 'purchas',\n",
       " 'lol',\n",
       " 'work',\n",
       " 'hard',\n",
       " 'play',\n",
       " 'ipad',\n",
       " 'batteri',\n",
       " 'charg',\n",
       " 'dead',\n",
       " 'saturday',\n",
       " 'summer',\n",
       " 'like',\n",
       " 'share',\n",
       " 'want',\n",
       " 'instagram',\n",
       " 'photooftheday',\n",
       " 'tweegram',\n",
       " 'reason',\n",
       " 'one',\n",
       " 'suck',\n",
       " 'truth',\n",
       " 'agre',\n",
       " 'fact',\n",
       " 'store',\n",
       " 'screen',\n",
       " 'monday',\n",
       " 'ur',\n",
       " 'art',\n",
       " 'easter',\n",
       " 'dear',\n",
       " 'friend',\n",
       " 'face',\n",
       " 'email',\n",
       " 'seem',\n",
       " 'pie',\n",
       " 'wife',\n",
       " 'ive',\n",
       " 'day',\n",
       " 'button',\n",
       " 'back',\n",
       " 'broke',\n",
       " 'hit',\n",
       " 'goe',\n",
       " 'complet',\n",
       " 'black',\n",
       " 'keep',\n",
       " 'get',\n",
       " 'text',\n",
       " 'cant',\n",
       " 'check',\n",
       " 'wallpap',\n",
       " 'wall',\n",
       " 'galaxi',\n",
       " 'samsung',\n",
       " 'patent',\n",
       " 'million',\n",
       " 'parti',\n",
       " 'mess',\n",
       " 'havent',\n",
       " 'done',\n",
       " 'noth',\n",
       " 'touch',\n",
       " 'lose',\n",
       " 'pic',\n",
       " 'kill',\n",
       " 'someon',\n",
       " 'hateappl',\n",
       " 'flower',\n",
       " 'green',\n",
       " 'must',\n",
       " 'watch',\n",
       " 'youtub',\n",
       " 'subscrib',\n",
       " 'daili',\n",
       " 'vlog',\n",
       " 'twitch',\n",
       " 'game',\n",
       " 'ps',\n",
       " 'xbox',\n",
       " 'io',\n",
       " 'live',\n",
       " 'laugh',\n",
       " 'life',\n",
       " 'food',\n",
       " 'instago',\n",
       " 'instahub',\n",
       " 'instagram…',\n",
       " 'friendship',\n",
       " 'dog',\n",
       " 'famili',\n",
       " 'goal',\n",
       " 'bestfriend',\n",
       " 'america',\n",
       " 'taken',\n",
       " 'sunset',\n",
       " 'sky',\n",
       " 'sister',\n",
       " 'bought',\n",
       " 'earli',\n",
       " 'bday',\n",
       " 'gift',\n",
       " 'receiv',\n",
       " 'note',\n",
       " 'mani',\n",
       " 'market',\n",
       " 'delet',\n",
       " 'song',\n",
       " 'itun',\n",
       " 'freak',\n",
       " 'window',\n",
       " 'advanc',\n",
       " 'custom',\n",
       " 'stand',\n",
       " 'bad',\n",
       " 'cheap',\n",
       " 'tech',\n",
       " 'bull',\n",
       " 'smile',\n",
       " 'creat',\n",
       " 'let',\n",
       " 'sunday',\n",
       " 'alway',\n",
       " 'eye',\n",
       " 'ootd',\n",
       " 'fashion',\n",
       " 'blackandwhit',\n",
       " 'film',\n",
       " 'set',\n",
       " 'video',\n",
       " 'produc',\n",
       " 'follow',\n",
       " 'movi',\n",
       " 'act',\n",
       " 'pink',\n",
       " 'sweet',\n",
       " 'sexi',\n",
       " 'ladi',\n",
       " 'week',\n",
       " 'end',\n",
       " 'iphoneplu',\n",
       " 'moment',\n",
       " 'see',\n",
       " 'differ',\n",
       " 'photographi',\n",
       " 'natur',\n",
       " 'landscap',\n",
       " 'view',\n",
       " 'tree',\n",
       " 'travel',\n",
       " 'googl',\n",
       " 'cut',\n",
       " 'program',\n",
       " 'look',\n",
       " 'got',\n",
       " 'christma',\n",
       " 'girl',\n",
       " 'instacool',\n",
       " 'free',\n",
       " 'appstor',\n",
       " 'joy',\n",
       " 'peac',\n",
       " 'reflect',\n",
       " 'rememb',\n",
       " 'cloud',\n",
       " 'gr',\n",
       " 'iphone…',\n",
       " 'babi',\n",
       " 'pet',\n",
       " 'news',\n",
       " 'fail',\n",
       " 'funni',\n",
       " 'hate',\n",
       " 'tablet',\n",
       " 'person',\n",
       " 'use',\n",
       " 'fan',\n",
       " 'think',\n",
       " 'product',\n",
       " 'friday',\n",
       " 'call',\n",
       " 'blackfriday',\n",
       " 'holiday',\n",
       " 'newyork',\n",
       " 'busi',\n",
       " 'money',\n",
       " 'birthday',\n",
       " 'tv',\n",
       " 'comput',\n",
       " 'school',\n",
       " 'serious',\n",
       " 'month',\n",
       " 'good',\n",
       " 'job',\n",
       " 'actual',\n",
       " '£',\n",
       " 'replac',\n",
       " 'that',\n",
       " 'still',\n",
       " 'rt',\n",
       " 'droid',\n",
       " 'cool',\n",
       " 'pictur',\n",
       " 'l',\n",
       " 'run',\n",
       " 'beach',\n",
       " 'sport',\n",
       " 'bit',\n",
       " 'hashtag',\n",
       " 'yet',\n",
       " 'arriv',\n",
       " 'gain',\n",
       " 'everyon',\n",
       " 'sougofollow',\n",
       " 'ff',\n",
       " 'iphoneographi',\n",
       " 'iphonephotographi',\n",
       " 'mobil',\n",
       " 'bright',\n",
       " 'user',\n",
       " 'date',\n",
       " 'less',\n",
       " 'random',\n",
       " 'instamood',\n",
       " 'wine',\n",
       " 'creativ',\n",
       " 'hot',\n",
       " 'icon',\n",
       " 'origin',\n",
       " 'pop',\n",
       " 'red',\n",
       " 'rock',\n",
       " 'soul',\n",
       " 'singer',\n",
       " 'univers',\n",
       " 'wed',\n",
       " 'thought',\n",
       " 'id',\n",
       " 'lost',\n",
       " 'ipadmini',\n",
       " 'feel',\n",
       " 'broken',\n",
       " 'light',\n",
       " 'pleas',\n",
       " 'indonesia',\n",
       " 'gold',\n",
       " 'potd',\n",
       " 'reset',\n",
       " 'sorri',\n",
       " 'white',\n",
       " 'tea',\n",
       " 'chill',\n",
       " 'cover',\n",
       " 'g',\n",
       " 'came',\n",
       " 'magic',\n",
       " 'come',\n",
       " 'followsunday',\n",
       " 'followback',\n",
       " 'teamfollowback',\n",
       " 'retweet',\n",
       " 'ya',\n",
       " 'thing',\n",
       " 'i’m',\n",
       " 'it’',\n",
       " 'alreadi',\n",
       " 'problem',\n",
       " 'issu',\n",
       " 'abl',\n",
       " 'sonya',\n",
       " 'shoot',\n",
       " 'put',\n",
       " 'price',\n",
       " 'devic',\n",
       " 'win',\n",
       " 'box',\n",
       " 'memori',\n",
       " 'brother',\n",
       " '–',\n",
       " 'oh',\n",
       " 'lip',\n",
       " 'enjoy',\n",
       " 'playstat',\n",
       " 'gamer',\n",
       " 'someth',\n",
       " 'wrong',\n",
       " 'right',\n",
       " 'today',\n",
       " 'earphon',\n",
       " 'lifestyl',\n",
       " 'fuckyou',\n",
       " 'never',\n",
       " 'bug',\n",
       " 'littl',\n",
       " 'qualiti',\n",
       " 'girlfriend',\n",
       " 'card',\n",
       " 'z',\n",
       " 'present',\n",
       " 'mom',\n",
       " 'macbookpro',\n",
       " 'macbook',\n",
       " 'quot',\n",
       " 'word',\n",
       " 'tweetgram',\n",
       " 'great',\n",
       " 'repair',\n",
       " 'hour',\n",
       " 'everyth',\n",
       " 'mode',\n",
       " 'usa',\n",
       " 'compani',\n",
       " 'model',\n",
       " 'cd',\n",
       " 'featur',\n",
       " 'didnt',\n",
       " 'coffe',\n",
       " 'effect',\n",
       " 'spring',\n",
       " 'galaxynot',\n",
       " 'special',\n",
       " 'valentin',\n",
       " 'nowplay',\n",
       " 'daughter',\n",
       " 'poem',\n",
       " 'car',\n",
       " 'sign',\n",
       " 'lunch',\n",
       " 'park',\n",
       " 'banana',\n",
       " 'autumn',\n",
       " 'spend',\n",
       " 'much',\n",
       " 'book',\n",
       " 'say',\n",
       " 'u',\n",
       " 'took',\n",
       " 'download',\n",
       " 'ad',\n",
       " 'twitter',\n",
       " 'educ',\n",
       " 'n',\n",
       " 'miss',\n",
       " 'last',\n",
       " 'min',\n",
       " 'tmobil',\n",
       " 'rid',\n",
       " 'absolut',\n",
       " 'annoy',\n",
       " 'level',\n",
       " 'buy',\n",
       " 'full',\n",
       " 'version',\n",
       " 'import',\n",
       " 'mood',\n",
       " 'blog',\n",
       " 'style',\n",
       " 'bestoftheday',\n",
       " 'pretti',\n",
       " 'babe',\n",
       " 'send',\n",
       " 'turn',\n",
       " 'imessag',\n",
       " 'sleep',\n",
       " 'popular',\n",
       " 'tweet',\n",
       " 'shotoniphon',\n",
       " 'photograph',\n",
       " 'sync',\n",
       " 'second',\n",
       " 'fml',\n",
       " 'candi',\n",
       " 'nice',\n",
       " 'wait',\n",
       " 'hand',\n",
       " 'gb',\n",
       " 'first',\n",
       " 'bar',\n",
       " 'key',\n",
       " 'long',\n",
       " 'cold',\n",
       " 'boot',\n",
       " 'siri',\n",
       " 'doesnt',\n",
       " 'liter',\n",
       " 'cri',\n",
       " 'contact',\n",
       " 'wonder',\n",
       " 'avail',\n",
       " 'b',\n",
       " 'laptop',\n",
       " 'vaio',\n",
       " 'blackberri',\n",
       " 'best',\n",
       " 'fruit',\n",
       " 'fall',\n",
       " 'soon',\n",
       " 'yum',\n",
       " 'mac',\n",
       " 'display',\n",
       " 'told',\n",
       " 'stop',\n",
       " 'p',\n",
       " 'three',\n",
       " 'ship',\n",
       " 'gear',\n",
       " 'well',\n",
       " 'past',\n",
       " 'singl',\n",
       " 'capetownsup',\n",
       " 'sup',\n",
       " 'surf',\n",
       " 'capetown',\n",
       " 'pro',\n",
       " 'half',\n",
       " 'stuff',\n",
       " 'excit',\n",
       " 'open',\n",
       " 'mine',\n",
       " 'piss',\n",
       " 'offici',\n",
       " 'keyboard',\n",
       " 'okay',\n",
       " 'though',\n",
       " 'enough',\n",
       " 'simpl',\n",
       " 'th',\n",
       " 'refus',\n",
       " 'night',\n",
       " 'son',\n",
       " 'instagood…',\n",
       " 'jj',\n",
       " 'makeup',\n",
       " 'valentinesday',\n",
       " 'februari',\n",
       " 'portrait',\n",
       " 'shot',\n",
       " 'sonyalpha',\n",
       " 'mm',\n",
       " 'password',\n",
       " 'zoom',\n",
       " 'stevejob',\n",
       " 'yall',\n",
       " 'addict',\n",
       " 'prophet',\n",
       " 'husband',\n",
       " 'kindl',\n",
       " 'a…',\n",
       " 'upgrad',\n",
       " 'help',\n",
       " 'children',\n",
       " 'there',\n",
       " 'least',\n",
       " 'tab',\n",
       " 'real',\n",
       " 'visit',\n",
       " 'hi',\n",
       " 'world',\n",
       " 'old',\n",
       " 'followm',\n",
       " 'likelik',\n",
       " 'samsung…',\n",
       " 'swag',\n",
       " 'cat',\n",
       " 'edit',\n",
       " 'sick',\n",
       " 'paint',\n",
       " 'bullshit',\n",
       " 'may',\n",
       " 'perfect',\n",
       " 'instaphoto',\n",
       " 'welcom',\n",
       " 'draw',\n",
       " 'os',\n",
       " 'throw',\n",
       " 'fast',\n",
       " 'w',\n",
       " 'take',\n",
       " 'two',\n",
       " 'next',\n",
       " 'offer',\n",
       " 'middl',\n",
       " 'access',\n",
       " 'account',\n",
       " 'find',\n",
       " 'citi',\n",
       " 'stori',\n",
       " 'destini',\n",
       " 'awesom',\n",
       " 'accessori',\n",
       " 'info',\n",
       " 'goodnight',\n",
       " 'dream',\n",
       " 'hope',\n",
       " 'uae',\n",
       " 'lucki',\n",
       " 'deal',\n",
       " 'passion',\n",
       " 'read',\n",
       " 'edm',\n",
       " 'whole',\n",
       " 'playlist',\n",
       " 'god',\n",
       " 'nx',\n",
       " 'cuti',\n",
       " 'high',\n",
       " 'usb',\n",
       " 'geek',\n",
       " 'bot',\n",
       " 'gadget',\n",
       " 'power',\n",
       " 'pc',\n",
       " 'sprint',\n",
       " 'pick',\n",
       " 'wish',\n",
       " 'minut',\n",
       " 'count',\n",
       " 'tl',\n",
       " 'drive',\n",
       " 'nyc',\n",
       " 'gay',\n",
       " 'readi',\n",
       " 'cellphon',\n",
       " 'space',\n",
       " 'ny',\n",
       " 'tattoo',\n",
       " 'total',\n",
       " 'ye',\n",
       " 'via',\n",
       " 'air',\n",
       " 'instal',\n",
       " 'fit',\n",
       " 'plu',\n",
       " 'sim',\n",
       " 'florida',\n",
       " 'sale',\n",
       " 'nokia',\n",
       " 'motorola',\n",
       " 'lg',\n",
       " 'without',\n",
       " 'hold',\n",
       " 'speed',\n",
       " 'unitedst',\n",
       " 'guitarplay',\n",
       " 'smart',\n",
       " 'crap',\n",
       " 'calendar',\n",
       " 'event',\n",
       " 'icloud',\n",
       " 'angri',\n",
       " 'bird',\n",
       " 'freez',\n",
       " 'ever',\n",
       " 'sinc',\n",
       " 'team',\n",
       " 'tri',\n",
       " 'convers',\n",
       " 'wouldnt',\n",
       " 'small',\n",
       " 'blue',\n",
       " '—',\n",
       " 'steemit',\n",
       " 'sonylen',\n",
       " 'len',\n",
       " 'sonyphotographi',\n",
       " 'imag',\n",
       " 'photofe',\n",
       " 'feed',\n",
       " 'yeah',\n",
       " 'gorgeou',\n",
       " 'ig',\n",
       " 'orang',\n",
       " 'haha',\n",
       " 'dress',\n",
       " 'lock',\n",
       " 'speaker',\n",
       " 'reallyr',\n",
       " 'colleg',\n",
       " 'true',\n",
       " 'chocol',\n",
       " 'shit',\n",
       " 'ador',\n",
       " 'nofilt',\n",
       " 'drink',\n",
       " 'purpl',\n",
       " 'tasti',\n",
       " 'garden',\n",
       " 'андроид',\n",
       " 'guy',\n",
       " 'bestpric',\n",
       " 'jun',\n",
       " 'unlock',\n",
       " 'caus',\n",
       " 'manag',\n",
       " 'mommi',\n",
       " 'bless',\n",
       " 'could',\n",
       " 'chines',\n",
       " 'close',\n",
       " 'system',\n",
       " 'morn',\n",
       " 'nike',\n",
       " 'goodmorn',\n",
       " 'r',\n",
       " 'imac',\n",
       " 'sell',\n",
       " 'mad',\n",
       " 'purpos',\n",
       " 'pari',\n",
       " 'answer',\n",
       " 'roll',\n",
       " 'verizon',\n",
       " 'headphon',\n",
       " 'show',\n",
       " 'sound',\n",
       " 'itali',\n",
       " 'socialmedia',\n",
       " 'learn',\n",
       " 'smoke',\n",
       " 'tomorrow',\n",
       " 'here',\n",
       " 'delici',\n",
       " 'far',\n",
       " 'away',\n",
       " 'ebay',\n",
       " 'fix',\n",
       " 'easi',\n",
       " 'silver',\n",
       " 'oneplu',\n",
       " 'provid',\n",
       " 'experi',\n",
       " 'flag',\n",
       " 'emoji',\n",
       " 'chang',\n",
       " 'al',\n",
       " 'april',\n",
       " 'man',\n",
       " 'wanna',\n",
       " 'your',\n",
       " 'tell',\n",
       " 'kid',\n",
       " 'backup',\n",
       " 'peopl',\n",
       " 'dad',\n",
       " 'anyon',\n",
       " 'els',\n",
       " 'block',\n",
       " 'number',\n",
       " 'possibl',\n",
       " 'frustrat',\n",
       " 'file',\n",
       " 'bro',\n",
       " 'rhyme',\n",
       " 'thx',\n",
       " 'jailbreak',\n",
       " 'sit',\n",
       " 'restor',\n",
       " 'stock',\n",
       " 'mother',\n",
       " 'igdaili',\n",
       " 'marri',\n",
       " 'healthi',\n",
       " 'ugh',\n",
       " 'x',\n",
       " 'bc',\n",
       " 'gratitud',\n",
       " 'edg',\n",
       " 'unbox',\n",
       " 'wow',\n",
       " 'sonyphoto',\n",
       " 'top',\n",
       " 'phonecas',\n",
       " 'june',\n",
       " 'sad',\n",
       " 'yellow',\n",
       " 'woman',\n",
       " 'might',\n",
       " 'india',\n",
       " 'canada',\n",
       " 'europ',\n",
       " 'super',\n",
       " 'care',\n",
       " 'map',\n",
       " 'applestor',\n",
       " 'hello',\n",
       " 'order',\n",
       " 'sent',\n",
       " 'went',\n",
       " 'wasnt',\n",
       " 'insta',\n",
       " 'newphon',\n",
       " 'fish',\n",
       " 'london',\n",
       " 'vsco',\n",
       " 'track',\n",
       " 'catch',\n",
       " 'finger',\n",
       " 'anymor',\n",
       " 'captur',\n",
       " 'futur',\n",
       " 'cell',\n",
       " 'instalik',\n",
       " 'sony…',\n",
       " 'march',\n",
       " 'proud',\n",
       " 'hateiphon',\n",
       " 'sticker',\n",
       " 'vscocam',\n",
       " 'bring',\n",
       " 'better',\n",
       " 'kiss',\n",
       " 'heart',\n",
       " 'fresh',\n",
       " 'librari',\n",
       " 'inspir',\n",
       " 'inlov',\n",
       " 'luxuri',\n",
       " 'exquisit',\n",
       " 'squishi',\n",
       " 'charm',\n",
       " 'strap',\n",
       " 'toy',\n",
       " 'decor',\n",
       " 'cake',\n",
       " 'theyr',\n",
       " 'lte',\n",
       " 'facebook',\n",
       " 'wipe',\n",
       " 'human',\n",
       " 'bff',\n",
       " 'instalov',\n",
       " 'storag',\n",
       " 'wake',\n",
       " 'shitti',\n",
       " 'wast',\n",
       " 'switch',\n",
       " 'blond',\n",
       " 'load',\n",
       " 'sue',\n",
       " 'teamandroid',\n",
       " 'da',\n",
       " 'ly',\n",
       " 'lion',\n",
       " 'steve',\n",
       " 'also',\n",
       " 'ill',\n",
       " 'osx',\n",
       " 'photoshoot',\n",
       " 'coupl',\n",
       " 'favorit',\n",
       " 'forc',\n",
       " 'newtoy',\n",
       " 'nascar',\n",
       " 'tire',\n",
       " 'appar',\n",
       " 'ago',\n",
       " 'zeeland',\n",
       " 'appletv',\n",
       " 'ask',\n",
       " 'said',\n",
       " 'meet',\n",
       " 'electron',\n",
       " 'gener',\n",
       " 'link',\n",
       " 'code',\n",
       " 'tshirt',\n",
       " 'tbt',\n",
       " 'beat',\n",
       " 'screw',\n",
       " 'videogam',\n",
       " 'motiv',\n",
       " 'sunni',\n",
       " 'nikon',\n",
       " 'useless',\n",
       " 'boyfriend',\n",
       " 'weekend',\n",
       " 'cook',\n",
       " 'japan',\n",
       " 'starbuck',\n",
       " 'almost',\n",
       " 'cousin',\n",
       " 'tag',\n",
       " 'applesuck',\n",
       " 'bye',\n",
       " 'search',\n",
       " 'dinner',\n",
       " 'discount',\n",
       " 'cheer',\n",
       " 'bluetooth',\n",
       " 'wireless',\n",
       " 'data',\n",
       " 'spent',\n",
       " 'puppi',\n",
       " 'vacat',\n",
       " 'anim',\n",
       " 'notebook',\n",
       " 'redbubbl',\n",
       " 'iphonecas',\n",
       " 'king',\n",
       " 'yo',\n",
       " 'left',\n",
       " 'mean',\n",
       " 'what',\n",
       " 'yesterday',\n",
       " 'mayb',\n",
       " 'trump',\n",
       " 'california',\n",
       " 'repost',\n",
       " 'samsungmobil',\n",
       " 'gone',\n",
       " 'social',\n",
       " 'break',\n",
       " 'trip',\n",
       " 'slow',\n",
       " 'rain',\n",
       " 'wtf',\n",
       " 'anyth',\n",
       " 'cuz',\n",
       " 'hd',\n",
       " 'microsoft',\n",
       " 'applewatch',\n",
       " 'duo',\n",
       " 'dj',\n",
       " 'save',\n",
       " 'mr',\n",
       " 'releas',\n",
       " 'gonna',\n",
       " 'entir',\n",
       " 'part',\n",
       " 'die',\n",
       " 'k',\n",
       " 'tip',\n",
       " 'gotta',\n",
       " 'eat',\n",
       " 'walk',\n",
       " 'side',\n",
       " 'explor',\n",
       " 'hous',\n",
       " 'room',\n",
       " 'rs',\n",
       " 'piano',\n",
       " 'v',\n",
       " 'thankyou',\n",
       " 'happen',\n",
       " 'page',\n",
       " 'surpris',\n",
       " 'deliveri',\n",
       " 'messag',\n",
       " 'vocat',\n",
       " 'thailand',\n",
       " 'khaoko',\n",
       " 'ilc',\n",
       " 'snapspeed…',\n",
       " 'merri',\n",
       " 'htc',\n",
       " 'onlin',\n",
       " 'psn',\n",
       " 'flash',\n",
       " '•',\n",
       " 'treat',\n",
       " 'tagsforlik',\n",
       " 'cost',\n",
       " 'crack',\n",
       " 'collect',\n",
       " 'stuck',\n",
       " 'planet',\n",
       " 'men',\n",
       " 'followfollow',\n",
       " 'blow',\n",
       " 'latest',\n",
       " 'consol',\n",
       " 'blogger',\n",
       " 'protect',\n",
       " 'skin',\n",
       " 'choos',\n",
       " 'uniqu',\n",
       " 'piec',\n",
       " 'lot',\n",
       " 'remov',\n",
       " 'secur',\n",
       " 'princess',\n",
       " 'mind',\n",
       " 'becom',\n",
       " 'miami',\n",
       " 'nail',\n",
       " 'rip',\n",
       " 'figur',\n",
       " 'network',\n",
       " 'bitch',\n",
       " 'tuesday',\n",
       " 'f',\n",
       " 'idea',\n",
       " 'fb',\n",
       " 'omg',\n",
       " 'innov',\n",
       " 'player',\n",
       " 'forev',\n",
       " 'satisfi',\n",
       " 'tonight',\n",
       " 'artist',\n",
       " 'sing',\n",
       " 'click',\n",
       " 'hair',\n",
       " 'ride',\n",
       " 'leav',\n",
       " 'colour',\n",
       " 'togeth',\n",
       " 'asshol',\n",
       " ...]"
      ]
     },
     "execution_count": 50,
     "metadata": {},
     "output_type": "execute_result"
    }
   ],
   "source": [
    "tokens"
   ]
  },
  {
   "cell_type": "code",
   "execution_count": 51,
   "id": "872f43a3-c334-413b-831d-5e9e2060bb87",
   "metadata": {},
   "outputs": [],
   "source": [
    "def save_vocabulary(lines, filename):\n",
    "    data = '\\n'.join(lines)\n",
    "    file = open(filename, 'w', encoding=\"utf-8\")\n",
    "    file.write(data)\n",
    "    file.close()\n",
    "\n",
    "save_vocabulary(tokens, '../static/model/vocabulary.txt')"
   ]
  },
  {
   "cell_type": "markdown",
   "id": "51eb9e3d-dde8-4554-a1fd-10ca8b2986fa",
   "metadata": {},
   "source": [
    "Divide dataset"
   ]
  },
  {
   "cell_type": "code",
   "execution_count": 52,
   "id": "a1354051-f4d5-4ae3-94d9-da3288d899bb",
   "metadata": {},
   "outputs": [],
   "source": [
    "X = data['tweet']\n",
    "y = data['label']"
   ]
  },
  {
   "cell_type": "code",
   "execution_count": 53,
   "id": "65df7cf8-bde7-47cc-9346-ff3271098845",
   "metadata": {},
   "outputs": [
    {
     "name": "stdout",
     "output_type": "stream",
     "text": [
      "Collecting scikit-learn\n",
      "  Using cached scikit_learn-1.5.0-cp312-cp312-win_amd64.whl.metadata (11 kB)\n",
      "Requirement already satisfied: numpy>=1.19.5 in e:\\project\\sentiment analysis\\sentiment-analysis-\\env\\lib\\site-packages (from scikit-learn) (1.26.4)\n",
      "Collecting scipy>=1.6.0 (from scikit-learn)\n",
      "  Using cached scipy-1.13.1-cp312-cp312-win_amd64.whl.metadata (60 kB)\n",
      "Requirement already satisfied: joblib>=1.2.0 in e:\\project\\sentiment analysis\\sentiment-analysis-\\env\\lib\\site-packages (from scikit-learn) (1.4.2)\n",
      "Collecting threadpoolctl>=3.1.0 (from scikit-learn)\n",
      "  Using cached threadpoolctl-3.5.0-py3-none-any.whl.metadata (13 kB)\n",
      "Using cached scikit_learn-1.5.0-cp312-cp312-win_amd64.whl (10.9 MB)\n",
      "Using cached scipy-1.13.1-cp312-cp312-win_amd64.whl (45.9 MB)\n",
      "Using cached threadpoolctl-3.5.0-py3-none-any.whl (18 kB)\n",
      "Installing collected packages: threadpoolctl, scipy, scikit-learn\n",
      "Successfully installed scikit-learn-1.5.0 scipy-1.13.1 threadpoolctl-3.5.0\n"
     ]
    }
   ],
   "source": [
    "!pip install scikit-learn"
   ]
  },
  {
   "cell_type": "code",
   "execution_count": 54,
   "id": "0c3e0227-e397-4768-b218-b447848d6fd0",
   "metadata": {},
   "outputs": [
    {
     "ename": "ModuleNotFoundError",
     "evalue": "No module named 'imblearn'",
     "output_type": "error",
     "traceback": [
      "\u001b[1;31m---------------------------------------------------------------------------\u001b[0m",
      "\u001b[1;31mModuleNotFoundError\u001b[0m                       Traceback (most recent call last)",
      "Cell \u001b[1;32mIn[54], line 1\u001b[0m\n\u001b[1;32m----> 1\u001b[0m \u001b[38;5;28;01mfrom\u001b[39;00m \u001b[38;5;21;01mimblearn\u001b[39;00m\u001b[38;5;21;01m.\u001b[39;00m\u001b[38;5;21;01mover_sampling\u001b[39;00m \u001b[38;5;28;01mimport\u001b[39;00m SMOTE\n\u001b[0;32m      2\u001b[0m smote \u001b[38;5;241m=\u001b[39m SMOTE()\n\u001b[0;32m      3\u001b[0m vectorized_x_train_smote, y_train_smote \u001b[38;5;241m=\u001b[39m smote\u001b[38;5;241m.\u001b[39mfit_resample(vectorized_x_train, y_train)\n",
      "\u001b[1;31mModuleNotFoundError\u001b[0m: No module named 'imblearn'"
     ]
    }
   ],
   "source": [
    "from imblearn.over_sampling import SMOTE\n",
    "smote = SMOTE()\n",
    "vectorized_x_train_smote, y_train_smote = smote.fit_resample(vectorized_x_train, y_train)\n",
    "print(vectorized_x_train_smote.shape, y_train_smote.shape)"
   ]
  },
  {
   "cell_type": "code",
   "execution_count": 55,
   "id": "dcf3cd58-40a0-4948-a4b5-e0bfeebd1180",
   "metadata": {},
   "outputs": [],
   "source": [
    "from sklearn.model_selection import train_test_split\n",
    "X_train, X_test, y_train, y_test = train_test_split(X, y, test_size=0.2)"
   ]
  },
  {
   "cell_type": "code",
   "execution_count": 56,
   "id": "3ee5a82a-0d06-4684-9438-6c6f97bbed75",
   "metadata": {},
   "outputs": [
    {
     "data": {
      "text/plain": [
       "3830    new soni xperia sonymobil xperia mobil xperiat...\n",
       "3137    contempl beach instagram instagram followmebac...\n",
       "7125    bday bought new backpack camera gear microphon...\n",
       "6300    pretti happi iphon got ship todat thumbsup iph...\n",
       "6765    thankyou grate healthi appl starkinc bless sta...\n",
       "                              ...                        \n",
       "4025    prophet husband iphon android kindl book febru...\n",
       "3232    fuck cant move anoth countri year need wast mo...\n",
       "5105    new babi home soni alfa soni sonya camera phot...\n",
       "5021    djmisterquindi unbox thank tronsmart luissuare...\n",
       "7046    speaker laptop laptop speaker music deal radio...\n",
       "Name: tweet, Length: 6336, dtype: object"
      ]
     },
     "execution_count": 56,
     "metadata": {},
     "output_type": "execute_result"
    }
   ],
   "source": [
    "X_train"
   ]
  },
  {
   "cell_type": "code",
   "execution_count": 57,
   "id": "e6ef8bcd-12bc-4e6f-88b9-bc4170fd5469",
   "metadata": {},
   "outputs": [
    {
     "data": {
      "text/plain": [
       "2159    concept art iphon g doesn’t good concept piec ...\n",
       "1411    peopl anyth els hateappl lol peopl like find w...\n",
       "6673    girl decid custom phone haha iphon cute sad fu...\n",
       "231     convers sister wouldnt swap sister text imessa...\n",
       "765     happi famili bn wiediasetiani funtim bn holida...\n",
       "                              ...                        \n",
       "7129    phone cute cute kawaii phone iphon background ...\n",
       "3130    merrychristma holiday soni movi south africa m...\n",
       "1822    yummmmi sushi foodporn yum nofilt stuf etgoods...\n",
       "782     would like give big old fuckyou appl due fact ...\n",
       "4299    know ill smart get iphon repair centr earli av...\n",
       "Name: tweet, Length: 1584, dtype: object"
      ]
     },
     "execution_count": 57,
     "metadata": {},
     "output_type": "execute_result"
    }
   ],
   "source": [
    "X_test"
   ]
  },
  {
   "cell_type": "code",
   "execution_count": 58,
   "id": "f5d0de37-9ba8-4d72-b1b6-6b5d8a7bc144",
   "metadata": {},
   "outputs": [
    {
     "data": {
      "text/plain": [
       "3830    0\n",
       "3137    0\n",
       "7125    0\n",
       "6300    0\n",
       "6765    0\n",
       "       ..\n",
       "4025    0\n",
       "3232    1\n",
       "5105    0\n",
       "5021    0\n",
       "7046    0\n",
       "Name: label, Length: 6336, dtype: int64"
      ]
     },
     "execution_count": 58,
     "metadata": {},
     "output_type": "execute_result"
    }
   ],
   "source": [
    "y_train"
   ]
  },
  {
   "cell_type": "markdown",
   "id": "f851d90d-05d7-4e75-8568-a705353c523f",
   "metadata": {},
   "source": [
    "Vectorization"
   ]
  },
  {
   "cell_type": "code",
   "execution_count": 59,
   "id": "48edf6e9-625a-4fc6-a9df-375794140afb",
   "metadata": {},
   "outputs": [],
   "source": [
    "def vectorizer(ds, vocabulary):\n",
    "    vectorized_lst = []\n",
    "    \n",
    "    for sentence in ds:\n",
    "        sentence_lst = np.zeros(len(vocabulary))\n",
    "        \n",
    "        for i in range(len(vocabulary)):\n",
    "            if vocabulary[i] in sentence.split():\n",
    "                sentence_lst[i] = 1\n",
    "                \n",
    "        vectorized_lst.append(sentence_lst)\n",
    "        \n",
    "    vectorized_lst_new = np.asarray(vectorized_lst, dtype=np.float32)\n",
    "    \n",
    "    return vectorized_lst_new"
   ]
  },
  {
   "cell_type": "code",
   "execution_count": 60,
   "id": "4f10fbb9-f5bc-40ab-961f-06886b8af392",
   "metadata": {},
   "outputs": [],
   "source": [
    "vectorized_x_train = vectorizer(X_train, tokens)"
   ]
  },
  {
   "cell_type": "code",
   "execution_count": 61,
   "id": "4ce134b4-9642-4c47-b1cb-5610dd1161ee",
   "metadata": {},
   "outputs": [],
   "source": [
    "vectorized_x_test = vectorizer(X_test, tokens)"
   ]
  },
  {
   "cell_type": "code",
   "execution_count": 62,
   "id": "4e7807de-9317-49f4-8e1b-019ee394bd2d",
   "metadata": {},
   "outputs": [
    {
     "data": {
      "text/plain": [
       "array([[0., 0., 0., ..., 0., 0., 0.],\n",
       "       [0., 0., 1., ..., 0., 0., 0.],\n",
       "       [0., 0., 0., ..., 0., 0., 0.],\n",
       "       ...,\n",
       "       [0., 0., 0., ..., 0., 0., 0.],\n",
       "       [0., 0., 0., ..., 0., 0., 0.],\n",
       "       [0., 0., 0., ..., 0., 0., 0.]], dtype=float32)"
      ]
     },
     "execution_count": 62,
     "metadata": {},
     "output_type": "execute_result"
    }
   ],
   "source": [
    "vectorized_x_train"
   ]
  },
  {
   "cell_type": "code",
   "execution_count": 63,
   "id": "705d7d13-1fe5-4f08-910d-7530644ec762",
   "metadata": {},
   "outputs": [
    {
     "data": {
      "text/plain": [
       "3830    0\n",
       "3137    0\n",
       "7125    0\n",
       "6300    0\n",
       "6765    0\n",
       "       ..\n",
       "4025    0\n",
       "3232    1\n",
       "5105    0\n",
       "5021    0\n",
       "7046    0\n",
       "Name: label, Length: 6336, dtype: int64"
      ]
     },
     "execution_count": 63,
     "metadata": {},
     "output_type": "execute_result"
    }
   ],
   "source": [
    "y_train"
   ]
  },
  {
   "cell_type": "code",
   "execution_count": 64,
   "id": "3a112bfa-11e3-49bc-97b1-055fa1ae924f",
   "metadata": {},
   "outputs": [
    {
     "data": {
      "text/plain": [
       "array([[0., 0., 0., ..., 0., 0., 0.],\n",
       "       [0., 0., 0., ..., 0., 0., 0.],\n",
       "       [0., 0., 0., ..., 0., 0., 0.],\n",
       "       ...,\n",
       "       [0., 0., 0., ..., 0., 0., 0.],\n",
       "       [0., 0., 0., ..., 0., 0., 0.],\n",
       "       [0., 0., 0., ..., 0., 0., 0.]], dtype=float32)"
      ]
     },
     "execution_count": 64,
     "metadata": {},
     "output_type": "execute_result"
    }
   ],
   "source": [
    "vectorized_x_test"
   ]
  },
  {
   "cell_type": "code",
   "execution_count": 65,
   "id": "4beb45ce-4267-49b1-9edb-78b3bb4240fd",
   "metadata": {},
   "outputs": [
    {
     "data": {
      "text/plain": [
       "2159    0\n",
       "1411    0\n",
       "6673    0\n",
       "231     0\n",
       "765     0\n",
       "       ..\n",
       "7129    0\n",
       "3130    0\n",
       "1822    0\n",
       "782     1\n",
       "4299    1\n",
       "Name: label, Length: 1584, dtype: int64"
      ]
     },
     "execution_count": 65,
     "metadata": {},
     "output_type": "execute_result"
    }
   ],
   "source": [
    "y_test"
   ]
  },
  {
   "cell_type": "code",
   "execution_count": 66,
   "id": "f9ee0bb2-8343-44c3-a6b5-0b78f9897605",
   "metadata": {},
   "outputs": [
    {
     "data": {
      "text/plain": [
       "label\n",
       "0    4730\n",
       "1    1606\n",
       "Name: count, dtype: int64"
      ]
     },
     "execution_count": 66,
     "metadata": {},
     "output_type": "execute_result"
    }
   ],
   "source": [
    "y_train.value_counts()"
   ]
  },
  {
   "cell_type": "code",
   "execution_count": 67,
   "id": "ad928e30-1aea-451e-99b3-56bb4194582a",
   "metadata": {},
   "outputs": [
    {
     "data": {
      "image/png": "[encoded data removed]",
      "text/plain": [
       "<Figure size 640x480 with 1 Axes>"
      ]
     },
     "metadata": {},
     "output_type": "display_data"
    }
   ],
   "source": [
    "plt.pie(np.array([y_train.value_counts()[0], y_train.value_counts()[1]]), labels=['Positive', 'Negative'])\n",
    "plt.show()"
   ]
  },
  {
   "cell_type": "markdown",
   "id": "3a281fa2-c5e0-4d70-9189-0d9099fb7f0e",
   "metadata": {},
   "source": [
    "##Handle imbalanced dataset"
   ]
  },
  {
   "cell_type": "code",
   "execution_count": 68,
   "id": "d77d38eb-a1e0-40b1-8ea0-15c4a02101ff",
   "metadata": {},
   "outputs": [
    {
     "name": "stdout",
     "output_type": "stream",
     "text": [
      "Collecting imbalanced-learn\n",
      "  Downloading imbalanced_learn-0.12.3-py3-none-any.whl.metadata (8.3 kB)\n",
      "Requirement already satisfied: numpy>=1.17.3 in e:\\project\\sentiment analysis\\sentiment-analysis-\\env\\lib\\site-packages (from imbalanced-learn) (1.26.4)\n",
      "Requirement already satisfied: scipy>=1.5.0 in e:\\project\\sentiment analysis\\sentiment-analysis-\\env\\lib\\site-packages (from imbalanced-learn) (1.13.1)\n",
      "Requirement already satisfied: scikit-learn>=1.0.2 in e:\\project\\sentiment analysis\\sentiment-analysis-\\env\\lib\\site-packages (from imbalanced-learn) (1.5.0)\n",
      "Requirement already satisfied: joblib>=1.1.1 in e:\\project\\sentiment analysis\\sentiment-analysis-\\env\\lib\\site-packages (from imbalanced-learn) (1.4.2)\n",
      "Requirement already satisfied: threadpoolctl>=2.0.0 in e:\\project\\sentiment analysis\\sentiment-analysis-\\env\\lib\\site-packages (from imbalanced-learn) (3.5.0)\n",
      "Downloading imbalanced_learn-0.12.3-py3-none-any.whl (258 kB)\n",
      "   ---------------------------------------- 0.0/258.3 kB ? eta -:--:--\n",
      "   ---------------------------------------- 0.0/258.3 kB ? eta -:--:--\n",
      "   - -------------------------------------- 10.2/258.3 kB ? eta -:--:--\n",
      "   ---- ---------------------------------- 30.7/258.3 kB 262.6 kB/s eta 0:00:01\n",
      "   --------- ----------------------------- 61.4/258.3 kB 409.6 kB/s eta 0:00:01\n",
      "   --------- ----------------------------- 61.4/258.3 kB 409.6 kB/s eta 0:00:01\n",
      "   ------------- ------------------------- 92.2/258.3 kB 374.1 kB/s eta 0:00:01\n",
      "   --------------------- ---------------- 143.4/258.3 kB 500.5 kB/s eta 0:00:01\n",
      "   ------------------------ ------------- 163.8/258.3 kB 546.6 kB/s eta 0:00:01\n",
      "   ------------------------------ ------- 204.8/258.3 kB 541.9 kB/s eta 0:00:01\n",
      "   -------------------------------------- 258.3/258.3 kB 611.0 kB/s eta 0:00:00\n",
      "Installing collected packages: imbalanced-learn\n",
      "Successfully installed imbalanced-learn-0.12.3\n"
     ]
    }
   ],
   "source": [
    "!pip install imbalanced-learn"
   ]
  },
  {
   "cell_type": "code",
   "execution_count": 70,
   "id": "95dd7c1a-844f-4b58-a804-f53b418c043c",
   "metadata": {},
   "outputs": [
    {
     "name": "stdout",
     "output_type": "stream",
     "text": [
      "(9460, 1145) (9460,)\n"
     ]
    }
   ],
   "source": [
    "from imblearn.over_sampling import SMOTE\n",
    "smote = SMOTE()\n",
    "vectorized_x_train_smote, y_train_smote = smote.fit_resample(vectorized_x_train, y_train)\n",
    "print(vectorized_x_train_smote.shape, y_train_smote.shape)"
   ]
  },
  {
   "cell_type": "code",
   "execution_count": 71,
   "id": "10a2ddae-8755-4381-a112-08e7576a96d6",
   "metadata": {},
   "outputs": [
    {
     "data": {
      "text/plain": [
       "label\n",
       "0    4730\n",
       "1    4730\n",
       "Name: count, dtype: int64"
      ]
     },
     "execution_count": 71,
     "metadata": {},
     "output_type": "execute_result"
    }
   ],
   "source": [
    "y_train_smote.value_counts()"
   ]
  },
  {
   "cell_type": "code",
   "execution_count": 72,
   "id": "5fa67226-e811-4e60-bd12-a91bd8e4ef1e",
   "metadata": {},
   "outputs": [
    {
     "data": {
      "image/png": "[encoded data removed]",
      "text/plain": [
       "<Figure size 640x480 with 1 Axes>"
      ]
     },
     "metadata": {},
     "output_type": "display_data"
    }
   ],
   "source": [
    "plt.pie(np.array([y_train_smote.value_counts()[0], y_train_smote.value_counts()[1]]), labels=['Positive', 'Negative'])\n",
    "plt.show()"
   ]
  },
  {
   "cell_type": "code",
   "execution_count": 73,
   "id": "72f13ad7-898a-442b-a029-6beeabd30348",
   "metadata": {},
   "outputs": [
    {
     "data": {
      "text/plain": [
       "array([[0., 0., 0., ..., 0., 0., 0.],\n",
       "       [0., 0., 1., ..., 0., 0., 0.],\n",
       "       [0., 0., 0., ..., 0., 0., 0.],\n",
       "       ...,\n",
       "       [0., 0., 0., ..., 0., 0., 0.],\n",
       "       [0., 0., 0., ..., 0., 0., 0.],\n",
       "       [0., 0., 0., ..., 0., 0., 0.]], dtype=float32)"
      ]
     },
     "execution_count": 73,
     "metadata": {},
     "output_type": "execute_result"
    }
   ],
   "source": [
    "vectorized_x_train_smote"
   ]
  },
  {
   "cell_type": "code",
   "execution_count": 74,
   "id": "85f695f4-cd0e-4766-a4f8-6ae71e34d333",
   "metadata": {},
   "outputs": [
    {
     "data": {
      "text/plain": [
       "0       0\n",
       "1       0\n",
       "2       0\n",
       "3       0\n",
       "4       0\n",
       "       ..\n",
       "9455    1\n",
       "9456    1\n",
       "9457    1\n",
       "9458    1\n",
       "9459    1\n",
       "Name: label, Length: 9460, dtype: int64"
      ]
     },
     "execution_count": 74,
     "metadata": {},
     "output_type": "execute_result"
    }
   ],
   "source": [
    "y_train_smote"
   ]
  },
  {
   "cell_type": "code",
   "execution_count": 75,
   "id": "3820c13b-592a-4fb8-bc93-178c63d931ba",
   "metadata": {},
   "outputs": [
    {
     "data": {
      "text/plain": [
       "array([[0., 0., 0., ..., 0., 0., 0.],\n",
       "       [0., 0., 0., ..., 0., 0., 0.],\n",
       "       [0., 0., 0., ..., 0., 0., 0.],\n",
       "       ...,\n",
       "       [0., 0., 0., ..., 0., 0., 0.],\n",
       "       [0., 0., 0., ..., 0., 0., 0.],\n",
       "       [0., 0., 0., ..., 0., 0., 0.]], dtype=float32)"
      ]
     },
     "execution_count": 75,
     "metadata": {},
     "output_type": "execute_result"
    }
   ],
   "source": [
    "vectorized_x_test"
   ]
  },
  {
   "cell_type": "code",
   "execution_count": 76,
   "id": "1116f4ef-7f04-4618-bffd-976afa53baef",
   "metadata": {},
   "outputs": [
    {
     "data": {
      "text/plain": [
       "2159    0\n",
       "1411    0\n",
       "6673    0\n",
       "231     0\n",
       "765     0\n",
       "       ..\n",
       "7129    0\n",
       "3130    0\n",
       "1822    0\n",
       "782     1\n",
       "4299    1\n",
       "Name: label, Length: 1584, dtype: int64"
      ]
     },
     "execution_count": 76,
     "metadata": {},
     "output_type": "execute_result"
    }
   ],
   "source": [
    "y_test"
   ]
  },
  {
   "cell_type": "markdown",
   "id": "ff2aff93-bc5d-42cd-af7b-4cfac36d0200",
   "metadata": {},
   "source": [
    "Model Training and Evaluation"
   ]
  },
  {
   "cell_type": "code",
   "execution_count": 77,
   "id": "81fd55f4-bc82-4895-b386-7cf429ed3c49",
   "metadata": {},
   "outputs": [],
   "source": [
    "from sklearn.linear_model import LogisticRegression\n",
    "from sklearn.naive_bayes import MultinomialNB\n",
    "from sklearn.tree import DecisionTreeClassifier\n",
    "from sklearn.ensemble import RandomForestClassifier\n",
    "from sklearn.svm import SVC"
   ]
  },
  {
   "cell_type": "code",
   "execution_count": 78,
   "id": "e9894684-5711-4e7b-80ec-9d551a63520f",
   "metadata": {},
   "outputs": [],
   "source": [
    "from sklearn.metrics import accuracy_score, f1_score, precision_score, recall_score\n",
    "\n",
    "def training_scores(y_act, y_pred):\n",
    "    acc = round(accuracy_score(y_act, y_pred), 3)\n",
    "    pr = round(precision_score(y_act, y_pred), 3)\n",
    "    rec = round(recall_score(y_act, y_pred), 3)\n",
    "    f1 = round(f1_score(y_act, y_pred), 3)\n",
    "    print(f'Training Scores:\\n\\tAccuracy = {acc}\\n\\tPrecision = {pr}\\n\\tRecall = {rec}\\n\\tF1-Score = {f1}')\n",
    "    \n",
    "def validation_scores(y_act, y_pred):\n",
    "    acc = round(accuracy_score(y_act, y_pred), 3)\n",
    "    pr = round(precision_score(y_act, y_pred), 3)\n",
    "    rec = round(recall_score(y_act, y_pred), 3)\n",
    "    f1 = round(f1_score(y_act, y_pred), 3)\n",
    "    print(f'Testing Scores:\\n\\tAccuracy = {acc}\\n\\tPrecision = {pr}\\n\\tRecall = {rec}\\n\\tF1-Score = {f1}')"
   ]
  },
  {
   "cell_type": "markdown",
   "id": "967f4740-9565-42ce-8717-709654452f2b",
   "metadata": {},
   "source": [
    "Logistic Regression"
   ]
  },
  {
   "cell_type": "code",
   "execution_count": 80,
   "id": "7748fca5-3d2c-4d55-a5ef-694aeb7a380d",
   "metadata": {},
   "outputs": [
    {
     "name": "stdout",
     "output_type": "stream",
     "text": [
      "Training Scores:\n",
      "\tAccuracy = 0.94\n",
      "\tPrecision = 0.916\n",
      "\tRecall = 0.97\n",
      "\tF1-Score = 0.942\n",
      "Testing Scores:\n",
      "\tAccuracy = 0.86\n",
      "\tPrecision = 0.691\n",
      "\tRecall = 0.857\n",
      "\tF1-Score = 0.765\n"
     ]
    }
   ],
   "source": [
    "lr = LogisticRegression()\n",
    "lr.fit(vectorized_x_train_smote, y_train_smote)\n",
    "\n",
    "y_train_pred = lr.predict(vectorized_x_train_smote)\n",
    "\n",
    "y_test_pred = lr.predict(vectorized_x_test)\n",
    "\n",
    "training_scores(y_train_smote, y_train_pred)\n",
    "\n",
    "validation_scores(y_test, y_test_pred)"
   ]
  },
  {
   "cell_type": "markdown",
   "id": "840dd639-b22e-440b-88e0-82837fbd54ff",
   "metadata": {},
   "source": [
    "Naive Bayes"
   ]
  },
  {
   "cell_type": "code",
   "execution_count": 81,
   "id": "858cd809-a0f0-4f30-a6bf-2b9d1acd42d8",
   "metadata": {},
   "outputs": [
    {
     "name": "stdout",
     "output_type": "stream",
     "text": [
      "Training Scores:\n",
      "\tAccuracy = 0.903\n",
      "\tPrecision = 0.866\n",
      "\tRecall = 0.953\n",
      "\tF1-Score = 0.908\n",
      "Testing Scores:\n",
      "\tAccuracy = 0.862\n",
      "\tPrecision = 0.677\n",
      "\tRecall = 0.921\n",
      "\tF1-Score = 0.78\n"
     ]
    }
   ],
   "source": [
    "mnb = MultinomialNB()\n",
    "mnb.fit(vectorized_x_train_smote, y_train_smote)\n",
    "\n",
    "y_train_pred = mnb.predict(vectorized_x_train_smote)\n",
    "\n",
    "y_test_pred = mnb.predict(vectorized_x_test)\n",
    "\n",
    "training_scores(y_train_smote, y_train_pred)\n",
    "\n",
    "validation_scores(y_test, y_test_pred)"
   ]
  },
  {
   "cell_type": "markdown",
   "id": "e266e1c0-b0ae-4702-80d8-6894efa703c9",
   "metadata": {},
   "source": [
    "Decision Tree"
   ]
  },
  {
   "cell_type": "code",
   "execution_count": 83,
   "id": "54edad42-7ed8-4ad1-a361-643e7bc36f39",
   "metadata": {},
   "outputs": [
    {
     "name": "stdout",
     "output_type": "stream",
     "text": [
      "Training Scores:\n",
      "\tAccuracy = 1.0\n",
      "\tPrecision = 1.0\n",
      "\tRecall = 1.0\n",
      "\tF1-Score = 1.0\n",
      "Testing Scores:\n",
      "\tAccuracy = 0.826\n",
      "\tPrecision = 0.689\n",
      "\tRecall = 0.624\n",
      "\tF1-Score = 0.655\n"
     ]
    }
   ],
   "source": [
    "dt = DecisionTreeClassifier()\n",
    "\n",
    "dt.fit(vectorized_x_train_smote, y_train_smote)\n",
    "\n",
    "y_train_pred = dt.predict(vectorized_x_train_smote)\n",
    "\n",
    "y_test_pred = dt.predict(vectorized_x_test)\n",
    "\n",
    "training_scores(y_train_smote, y_train_pred)\n",
    "\n",
    "validation_scores(y_test, y_test_pred)"
   ]
  },
  {
   "cell_type": "markdown",
   "id": "6edcaf26-3376-4290-b961-62fe7b2362b1",
   "metadata": {},
   "source": [
    "Random Forest"
   ]
  },
  {
   "cell_type": "code",
   "execution_count": 84,
   "id": "1c44d5d9-d8a9-47df-945b-56d19dc8caff",
   "metadata": {},
   "outputs": [
    {
     "name": "stdout",
     "output_type": "stream",
     "text": [
      "Training Scores:\n",
      "\tAccuracy = 1.0\n",
      "\tPrecision = 1.0\n",
      "\tRecall = 1.0\n",
      "\tF1-Score = 1.0\n",
      "Testing Scores:\n",
      "\tAccuracy = 0.862\n",
      "\tPrecision = 0.749\n",
      "\tRecall = 0.719\n",
      "\tF1-Score = 0.734\n"
     ]
    }
   ],
   "source": [
    "rf = RandomForestClassifier()\n",
    "\n",
    "rf.fit(vectorized_x_train_smote, y_train_smote)\n",
    "\n",
    "y_train_pred = rf.predict(vectorized_x_train_smote)\n",
    "\n",
    "y_test_pred = rf.predict(vectorized_x_test)\n",
    "\n",
    "training_scores(y_train_smote, y_train_pred)\n",
    "\n",
    "validation_scores(y_test, y_test_pred)"
   ]
  },
  {
   "cell_type": "markdown",
   "id": "b13076a2-4cc0-4c73-9d41-3f797d5ba734",
   "metadata": {},
   "source": [
    "Support Vector Machine"
   ]
  },
  {
   "cell_type": "code",
   "execution_count": 88,
   "id": "fa35ba25-d133-4c9b-85d0-e1e5774bc377",
   "metadata": {},
   "outputs": [
    {
     "name": "stdout",
     "output_type": "stream",
     "text": [
      "Training Scores:\n",
      "\tAccuracy = 0.98\n",
      "\tPrecision = 0.965\n",
      "\tRecall = 0.995\n",
      "\tF1-Score = 0.98\n",
      "Testing Scores:\n",
      "\tAccuracy = 0.869\n",
      "\tPrecision = 0.725\n",
      "\tRecall = 0.817\n",
      "\tF1-Score = 0.768\n"
     ]
    }
   ],
   "source": [
    "svm = SVC()\n",
    "\n",
    "svm.fit(vectorized_x_train_smote, y_train_smote)\n",
    "\n",
    "y_train_pred = svm.predict(vectorized_x_train_smote)\n",
    "\n",
    "y_test_pred = svm.predict(vectorized_x_test)\n",
    "\n",
    "training_scores(y_train_smote, y_train_pred)\n",
    "\n",
    "validation_scores(y_test, y_test_pred)"
   ]
  },
  {
   "cell_type": "code",
   "execution_count": 89,
   "id": "ef9ea5fb-b6b2-4716-9740-4de641cb34d1",
   "metadata": {},
   "outputs": [],
   "source": [
    "import pickle\n",
    "\n",
    "with open('../static/model/model.pickle', 'wb') as file:\n",
    "    pickle.dump(lr, file)"
   ]
  },
  {
   "cell_type": "code",
   "execution_count": null,
   "id": "21cf9fe2-e975-44c1-9c9b-375c7270da8d",
   "metadata": {},
   "outputs": [],
   "source": []
  }
 ],
 "metadata": {
  "kernelspec": {
   "display_name": "Python 3 (ipykernel)",
   "language": "python",
   "name": "python3"
  },
  "language_info": {
   "codemirror_mode": {
    "name": "ipython",
    "version": 3
   },
   "file_extension": ".py",
   "mimetype": "text/x-python",
   "name": "python",
   "nbconvert_exporter": "python",
   "pygments_lexer": "ipython3",
   "version": "3.12.3"
  }
 },
 "nbformat": 4,
 "nbformat_minor": 5
}
